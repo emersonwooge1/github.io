{
 "cells": [
  {
   "cell_type": "markdown",
   "metadata": {},
   "source": [
    "# Food Ordering App"
   ]
  },
  {
   "cell_type": "markdown",
   "metadata": {},
   "source": [
    "This project will create a food ordering app utilizing skills developed with functions and loops"
   ]
  },
  {
   "cell_type": "code",
   "execution_count": 1,
   "metadata": {},
   "outputs": [],
   "source": [
    "# importing libraries\n",
    "\n",
    "import re"
   ]
  },
  {
   "cell_type": "code",
   "execution_count": 2,
   "metadata": {},
   "outputs": [],
   "source": [
    "# global variables for the app\n",
    "\n",
    "rest_name = \"Good_Foodz\"\n",
    "\n",
    "menu = {\"sku1\": {\n",
    "            \"Name\": \"Hamburger\",\n",
    "            \"Price\": 6.51\n",
    "                },\n",
    "        \"sku2\": {\n",
    "            \"Name\": \"Cheeseburger\",\n",
    "            \"Price\": 7.75\n",
    "                },    \n",
    "        \"sku3\": {\n",
    "            \"Name\": \"Milkshake\",\n",
    "            \"Price\": 5.99\n",
    "                },  \n",
    "        \"sku4\": {\n",
    "            \"Name\": \"Fries\",\n",
    "            \"Price\": 2.39\n",
    "                },  \n",
    "        \"sku5\": {\n",
    "            \"Name\": \"Sub\",\n",
    "            \"Price\": 5.87\n",
    "                },  \n",
    "                \"sku6\": {\n",
    "            \"Name\": \"Ice Cream\",\n",
    "            \"Price\": 1.55\n",
    "                },  \n",
    "        \"sku7\": {\n",
    "            \"Name\": \"Fountain Drink\",\n",
    "            \"Price\": 3.45\n",
    "                },  \n",
    "        \"sku8\": {\n",
    "            \"Name\": \"Cookie\",\n",
    "            \"Price\": 3.15\n",
    "                },  \n",
    "        \"sku9\": {\n",
    "            \"Name\": \"Brownie\",\n",
    "            \"Price\": 2.46\n",
    "                },  \n",
    "        \"sku10\": {\n",
    "            \"Name\": \"Sauce\",\n",
    "            \"Price\": 0.75\n",
    "                }   \n",
    "        }\n",
    "\n",
    "app_actions = {\n",
    "    \"1\": \"Add a new menu item to cart\",\n",
    "    \"2\": \"Remove an item from the cart\",\n",
    "    \"3\": \"Modify a cart item's quantity\",\n",
    "    \"4\": \"View cart\",\n",
    "    \"5\": \"Checkout\",\n",
    "    \"6\": \"Exit\"\n",
    "}\n",
    "\n",
    "tax_rate = .07\n",
    "cart = {}"
   ]
  },
  {
   "cell_type": "code",
   "execution_count": 3,
   "metadata": {},
   "outputs": [],
   "source": [
    "# display menu function\n",
    "\n",
    "def display_menu():\n",
    "    print(\"****Menu****\")\n",
    "    for item in menu:\n",
    "        name = menu[item][\"Name\"]\n",
    "        price = str(menu[item][\"Price\"])\n",
    "        sku = re.sub(r\"[a-zA-Z]\",\"\",item)\n",
    "        print(\"(\"+sku+\") \" + name + \": $\" + price)"
   ]
  },
  {
   "cell_type": "code",
   "execution_count": 4,
   "metadata": {},
   "outputs": [
    {
     "name": "stdout",
     "output_type": "stream",
     "text": [
      "****Menu****\n",
      "(1) Hamburger: $6.51\n",
      "(2) Cheeseburger: $7.75\n",
      "(3) Milkshake: $5.99\n",
      "(4) Fries: $2.39\n",
      "(5) Sub: $5.87\n",
      "(6) Ice Cream: $1.55\n",
      "(7) Fountain Drink: $3.45\n",
      "(8) Cookie: $3.15\n",
      "(9) Brownie: $2.46\n",
      "(10) Sauce: $0.75\n"
     ]
    }
   ],
   "source": [
    "display_menu()"
   ]
  },
  {
   "cell_type": "code",
   "execution_count": 5,
   "metadata": {},
   "outputs": [],
   "source": [
    "def add_to_cart(SKU, quantity):\n",
    "    if SKU not in menu:\n",
    "        print(\"SKU is not value please enter a new item\")\n",
    "    elif SKU in cart:\n",
    "            cart[SKU] += quantity\n",
    "    else:\n",
    "            cart[SKU] = quantity\n",
    "    plural = \"\"\n",
    "    plural2 = \"\"\n",
    "    if quantity > 1:\n",
    "        plural = \"s\"\n",
    "    else:\n",
    "        plural = \"\"\n",
    "    print(\"Added\", quantity, menu[SKU][\"Name\"]+ plural +\" to the cart.\")        \n",
    "                "
   ]
  },
  {
   "cell_type": "code",
   "execution_count": 6,
   "metadata": {},
   "outputs": [
    {
     "name": "stdout",
     "output_type": "stream",
     "text": [
      "Added 2 Milkshakes to the cart.\n",
      "Added 4 Hamburgers to the cart.\n"
     ]
    }
   ],
   "source": [
    "add_to_cart(\"sku3\", 2)\n",
    "add_to_cart(\"sku1\", 4)"
   ]
  },
  {
   "cell_type": "code",
   "execution_count": 7,
   "metadata": {},
   "outputs": [
    {
     "data": {
      "text/plain": [
       "{'sku3': 2, 'sku1': 4}"
      ]
     },
     "execution_count": 7,
     "metadata": {},
     "output_type": "execute_result"
    }
   ],
   "source": [
    "cart"
   ]
  },
  {
   "cell_type": "code",
   "execution_count": 8,
   "metadata": {},
   "outputs": [],
   "source": [
    "def remove_from_cart(SKU):\n",
    "    if SKU in menu:\n",
    "        if cart[SKU] > 1:\n",
    "            plural = \"s\"\n",
    "        else:\n",
    "            plural = \"\"\n",
    "        cart.pop(SKU)\n",
    "        print(\"Removed\", menu[SKU][\"Name\"]+ plural + \" from the cart\")\n",
    "    else:\n",
    "        print(\"SKU is not in cart please check number\")"
   ]
  },
  {
   "cell_type": "code",
   "execution_count": 9,
   "metadata": {},
   "outputs": [
    {
     "name": "stdout",
     "output_type": "stream",
     "text": [
      "Removed Milkshakes from the cart\n"
     ]
    }
   ],
   "source": [
    "remove_from_cart(\"sku3\")"
   ]
  },
  {
   "cell_type": "code",
   "execution_count": 10,
   "metadata": {},
   "outputs": [
    {
     "data": {
      "text/plain": [
       "{'sku1': 4}"
      ]
     },
     "execution_count": 10,
     "metadata": {},
     "output_type": "execute_result"
    }
   ],
   "source": [
    "cart"
   ]
  },
  {
   "cell_type": "code",
   "execution_count": 11,
   "metadata": {},
   "outputs": [],
   "source": [
    "def modify_cart(SKU, quantity):\n",
    "    if SKU in cart:\n",
    "        if quantity > 0:\n",
    "            cart[SKU] = quantity\n",
    "            print(\"Modified\", menu[SKU][\"Name\"], \"quantity to \", quantity, \" in the cart.\")\n",
    "        else:\n",
    "            remove_from_cart(SKU) \n",
    "    else:\n",
    "        print(\"SKU is not in the cart, please enter another\")\n",
    "        "
   ]
  },
  {
   "cell_type": "code",
   "execution_count": 12,
   "metadata": {},
   "outputs": [
    {
     "name": "stdout",
     "output_type": "stream",
     "text": [
      "SKU is not in the cart, please enter another\n"
     ]
    }
   ],
   "source": [
    "modify_cart(\"sku3\", 1)"
   ]
  },
  {
   "cell_type": "code",
   "execution_count": 13,
   "metadata": {},
   "outputs": [
    {
     "data": {
      "text/plain": [
       "{'sku1': 4}"
      ]
     },
     "execution_count": 13,
     "metadata": {},
     "output_type": "execute_result"
    }
   ],
   "source": [
    "cart"
   ]
  },
  {
   "cell_type": "code",
   "execution_count": 14,
   "metadata": {},
   "outputs": [],
   "source": [
    "def view_cart():\n",
    "    print(\"****Cart Contents****\")\n",
    "    subtotal = 0\n",
    "    for sku in cart:\n",
    "        if sku in menu:\n",
    "            quantity = cart[sku]\n",
    "            price = menu[sku][\"Price\"]\n",
    "            name = menu[sku][\"Name\"]\n",
    "            subtotal += quantity * price\n",
    "            print(quantity, \" X \", name)\n",
    "    tax = round(subtotal * tax_rate,2)\n",
    "    total = round(tax + subtotal,2)\n",
    "    print(\"Total: $\", total)"
   ]
  },
  {
   "cell_type": "code",
   "execution_count": 15,
   "metadata": {},
   "outputs": [
    {
     "name": "stdout",
     "output_type": "stream",
     "text": [
      "****Cart Contents****\n",
      "4  X  Hamburger\n",
      "Total: $ 27.86\n"
     ]
    }
   ],
   "source": [
    "view_cart()"
   ]
  },
  {
   "cell_type": "code",
   "execution_count": 16,
   "metadata": {},
   "outputs": [],
   "source": [
    "def checkout():\n",
    "    print(\"****Checkout****\")\n",
    "    view_cart()\n",
    "    print(\"Your order has been submitted\")"
   ]
  },
  {
   "cell_type": "code",
   "execution_count": 17,
   "metadata": {},
   "outputs": [
    {
     "name": "stdout",
     "output_type": "stream",
     "text": [
      "****Checkout****\n",
      "****Cart Contents****\n",
      "4  X  Hamburger\n",
      "Total: $ 27.86\n",
      "Your order has been submitted\n"
     ]
    }
   ],
   "source": [
    "checkout()"
   ]
  },
  {
   "cell_type": "code",
   "execution_count": 18,
   "metadata": {},
   "outputs": [],
   "source": [
    "def get_sku_and_quantity(sku_prompt, quantity_prompt=None):\n",
    "    sku_number = input(sku_prompt)\n",
    "    sku = \"sku\" + sku_number\n",
    "    if quantity_prompt is not None:\n",
    "        quantity = input(quantity_prompt)\n",
    "        if not quantity.isdigit():\n",
    "            quantity = 1\n",
    "        quantity = int(quantity)\n",
    "\n",
    "        return sku, quantity\n",
    "    # Quantity prompt is None meaning we do not need to get input for quantity\n",
    "    else:\n",
    "        return sku"
   ]
  },
  {
   "cell_type": "code",
   "execution_count": 19,
   "metadata": {},
   "outputs": [],
   "source": [
    "def order_loop():\n",
    "    print(\"Welcome to \" + rest_name + \"!\")\n",
    "    ordering = True\n",
    "    while ordering:\n",
    "        print(\"\\n****Ordering Actions****\\n\")\n",
    "        for number in app_actions:\n",
    "            description = app_actions[number]\n",
    "            print(\"(\" + number + \")\", description)\n",
    "        print(\"\\n\")    \n",
    "        \n",
    "        response = input(\"Please enter the number of the action you want to take: \")\n",
    "        if response == \"1\":\n",
    "            # User wants to order a menu item. Prompt them for SKU and quantity.\n",
    "            display_menu()\n",
    "            sku_prompt = \"Please enter the SKU number for the menu item you want to order: \"\n",
    "            quantity_prompt = \"Please enter the quantity you want to order [default is 1]: \"\n",
    "            ordered_sku, quantity = get_sku_and_quantity(sku_prompt, quantity_prompt)\n",
    "            add_to_cart(ordered_sku, quantity)\n",
    "        elif response == \"2\":\n",
    "            # User wants to remove an item from the cart. Prompt them for SKU only.\n",
    "            display_menu()\n",
    "            sku_prompt = \"Please enter the SKU number for the menu item you want to remove: \"\n",
    "            item_sku = get_sku_and_quantity(sku_prompt)\n",
    "            remove_from_cart(item_sku)\n",
    "        elif response == \"3\":\n",
    "            # User wants to modify an item quantity in the cart. Prompt them for SKU and quantity.\n",
    "            display_menu()\n",
    "            sku_prompt = \"Please enter the SKU number for the menu item you want to modify: \"\n",
    "            quantity_prompt = \"Please enter the quantity you want to change to [default is 1]: \"\n",
    "            item_sku, quantity = get_sku_and_quantity(sku_prompt, quantity_prompt)\n",
    "            modify_cart(item_sku, quantity)\n",
    "        elif response == \"4\":\n",
    "            # User wants to view the current cart contents. No user input needed.\n",
    "            view_cart()\n",
    "        elif response == \"5\":\n",
    "            # User wants to checkout. No user input needed. Terminate the while loop after displaying.\n",
    "            checkout()\n",
    "            ordering = False\n",
    "        elif response == \"6\":\n",
    "            # User wants to exit before ordering. No user input needed. Terminate the while loop.\n",
    "            print(\"Goodbye!\")\n",
    "            ordering = False\n",
    "        else:\n",
    "            # User has entered an invalid action number. Display a message.\n",
    "            print(\"You have entered an invalid action number. Please try again.\")"
   ]
  },
  {
   "cell_type": "code",
   "execution_count": 20,
   "metadata": {},
   "outputs": [
    {
     "name": "stdout",
     "output_type": "stream",
     "text": [
      "Welcome to Good_Foodz!\n",
      "\n",
      "****Ordering Actions****\n",
      "\n",
      "(1) Add a new menu item to cart\n",
      "(2) Remove an item from the cart\n",
      "(3) Modify a cart item's quantity\n",
      "(4) View cart\n",
      "(5) Checkout\n",
      "(6) Exit\n",
      "\n",
      "\n"
     ]
    },
    {
     "name": "stdin",
     "output_type": "stream",
     "text": [
      "Please enter the number of the action you want to take: \n",
      " 1\n"
     ]
    },
    {
     "name": "stdout",
     "output_type": "stream",
     "text": [
      "****Menu****\n",
      "(1) Hamburger: $6.51\n",
      "(2) Cheeseburger: $7.75\n",
      "(3) Milkshake: $5.99\n",
      "(4) Fries: $2.39\n",
      "(5) Sub: $5.87\n",
      "(6) Ice Cream: $1.55\n",
      "(7) Fountain Drink: $3.45\n",
      "(8) Cookie: $3.15\n",
      "(9) Brownie: $2.46\n",
      "(10) Sauce: $0.75\n"
     ]
    },
    {
     "name": "stdin",
     "output_type": "stream",
     "text": [
      "Please enter the SKU number for the menu item you want to order:  3\n",
      "Please enter the quantity you want to order [default is 1]:  5\n"
     ]
    },
    {
     "name": "stdout",
     "output_type": "stream",
     "text": [
      "Added 5 Milkshakes to the cart.\n",
      "\n",
      "****Ordering Actions****\n",
      "\n",
      "(1) Add a new menu item to cart\n",
      "(2) Remove an item from the cart\n",
      "(3) Modify a cart item's quantity\n",
      "(4) View cart\n",
      "(5) Checkout\n",
      "(6) Exit\n",
      "\n",
      "\n"
     ]
    },
    {
     "name": "stdin",
     "output_type": "stream",
     "text": [
      "Please enter the number of the action you want to take: \n",
      " 1\n"
     ]
    },
    {
     "name": "stdout",
     "output_type": "stream",
     "text": [
      "****Menu****\n",
      "(1) Hamburger: $6.51\n",
      "(2) Cheeseburger: $7.75\n",
      "(3) Milkshake: $5.99\n",
      "(4) Fries: $2.39\n",
      "(5) Sub: $5.87\n",
      "(6) Ice Cream: $1.55\n",
      "(7) Fountain Drink: $3.45\n",
      "(8) Cookie: $3.15\n",
      "(9) Brownie: $2.46\n",
      "(10) Sauce: $0.75\n"
     ]
    },
    {
     "name": "stdin",
     "output_type": "stream",
     "text": [
      "Please enter the SKU number for the menu item you want to order:  6\n",
      "Please enter the quantity you want to order [default is 1]:  3\n"
     ]
    },
    {
     "name": "stdout",
     "output_type": "stream",
     "text": [
      "Added 3 Ice Creams to the cart.\n",
      "\n",
      "****Ordering Actions****\n",
      "\n",
      "(1) Add a new menu item to cart\n",
      "(2) Remove an item from the cart\n",
      "(3) Modify a cart item's quantity\n",
      "(4) View cart\n",
      "(5) Checkout\n",
      "(6) Exit\n",
      "\n",
      "\n"
     ]
    },
    {
     "name": "stdin",
     "output_type": "stream",
     "text": [
      "Please enter the number of the action you want to take: \n",
      " 4\n"
     ]
    },
    {
     "name": "stdout",
     "output_type": "stream",
     "text": [
      "****Cart Contents****\n",
      "4  X  Hamburger\n",
      "5  X  Milkshake\n",
      "3  X  Ice Cream\n",
      "Total: $ 64.88\n",
      "\n",
      "****Ordering Actions****\n",
      "\n",
      "(1) Add a new menu item to cart\n",
      "(2) Remove an item from the cart\n",
      "(3) Modify a cart item's quantity\n",
      "(4) View cart\n",
      "(5) Checkout\n",
      "(6) Exit\n",
      "\n",
      "\n"
     ]
    },
    {
     "name": "stdin",
     "output_type": "stream",
     "text": [
      "Please enter the number of the action you want to take: \n",
      " 5\n"
     ]
    },
    {
     "name": "stdout",
     "output_type": "stream",
     "text": [
      "****Checkout****\n",
      "****Cart Contents****\n",
      "4  X  Hamburger\n",
      "5  X  Milkshake\n",
      "3  X  Ice Cream\n",
      "Total: $ 64.88\n",
      "Your order has been submitted\n"
     ]
    }
   ],
   "source": [
    "order_loop()"
   ]
  }
 ],
 "metadata": {
  "kernelspec": {
   "display_name": "Python 3 (ipykernel)",
   "language": "python",
   "name": "python3"
  },
  "language_info": {
   "codemirror_mode": {
    "name": "ipython",
    "version": 3
   },
   "file_extension": ".py",
   "mimetype": "text/x-python",
   "name": "python",
   "nbconvert_exporter": "python",
   "pygments_lexer": "ipython3",
   "version": "3.10.6"
  }
 },
 "nbformat": 4,
 "nbformat_minor": 4
}
