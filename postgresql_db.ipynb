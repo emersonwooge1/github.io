{
 "cells": [
  {
   "cell_type": "markdown",
   "metadata": {},
   "source": [
    "# Crime Reports Database Project"
   ]
  },
  {
   "cell_type": "markdown",
   "metadata": {},
   "source": [
    "The goal of this project is to create a postgre database and set up permissions for two groups one with read only permissions for the data analysts and one with read write permissions for the data scientists"
   ]
  },
  {
   "cell_type": "code",
   "execution_count": 1,
   "metadata": {
    "collapsed": false
   },
   "outputs": [],
   "source": [
    "# importing libraries and creating connection and cursor python objects\n",
    "import psycopg2\n",
    "conn = psycopg2.connect(dbname='dq', user='dq')\n",
    "cur = conn.cursor()"
   ]
  },
  {
   "cell_type": "code",
   "execution_count": 2,
   "metadata": {
    "collapsed": false
   },
   "outputs": [],
   "source": [
    "# creating crimes database\n",
    "conn.autocommit = True\n",
    "cur.execute(\"CREATE DATABASE crimes_db OWNER dq;\")\n",
    "conn.close()"
   ]
  },
  {
   "cell_type": "code",
   "execution_count": 3,
   "metadata": {
    "collapsed": false,
    "scrolled": true
   },
   "outputs": [],
   "source": [
    "# connecting to new crimes_db and creating a crimes schema\n",
    "conn = psycopg2.connect(dbname='crimes_db', user='dq')\n",
    "cur = conn.cursor()\n",
    "cur.execute(\"CREATE SCHEMA crimes\")\n",
    "conn.commit()"
   ]
  },
  {
   "cell_type": "code",
   "execution_count": 4,
   "metadata": {
    "collapsed": false
   },
   "outputs": [
    {
     "name": "stdout",
     "output_type": "stream",
     "text": [
      "['incident_number', 'offense_code', 'description', 'date', 'day_of_the_week', 'lat', 'long']\n",
      "['1', '619', 'LARCENY ALL OTHERS', '2018-09-02', 'Sunday', '42.35779134', '-71.13937053']\n"
     ]
    }
   ],
   "source": [
    "# opening bost.csv and viewing column headers and first row\n",
    "import csv\n",
    "with open(\"boston.csv\") as file:\n",
    "    reader = csv.reader(file)\n",
    "    col_headers = next(reader)\n",
    "    first_row = next(reader)\n",
    "    \n",
    "print(col_headers)\n",
    "print(first_row)"
   ]
  },
  {
   "cell_type": "code",
   "execution_count": 5,
   "metadata": {
    "collapsed": true
   },
   "outputs": [],
   "source": [
    "# function to check the total number of unique values in a column\n",
    "def get_col_set(csv_filename, col_index):\n",
    "    with open(csv_filename, 'r') as f:\n",
    "        next(f)\n",
    "        reader = csv.reader(f)\n",
    "        values = set()\n",
    "        for row in reader:\n",
    "            values.add(row[col_index])\n",
    "        return values            "
   ]
  },
  {
   "cell_type": "code",
   "execution_count": 6,
   "metadata": {
    "collapsed": false
   },
   "outputs": [
    {
     "name": "stdout",
     "output_type": "stream",
     "text": [
      "incident_number: 298329\n",
      "offense_code: 219\n",
      "description: 239\n",
      "date: 1177\n",
      "day_of_the_week: 7\n",
      "lat: 18177\n",
      "long: 18177\n"
     ]
    }
   ],
   "source": [
    "# loop to run through each column and run the unique values function\n",
    "for i in range(len(col_headers)):\n",
    "    col_name = col_headers[i]\n",
    "    total_values = len(get_col_set(\"boston.csv\", i))\n",
    "    print(\"{}: {}\".format(col_name, total_values))"
   ]
  },
  {
   "cell_type": "code",
   "execution_count": 7,
   "metadata": {
    "collapsed": false
   },
   "outputs": [],
   "source": [
    "# creating set for the description column\n",
    "description_set = get_col_set(\"boston.csv\", 2)"
   ]
  },
  {
   "cell_type": "code",
   "execution_count": 8,
   "metadata": {
    "collapsed": false
   },
   "outputs": [],
   "source": [
    "# finding max length value in description column set\n",
    "len_max = 0\n",
    "max_index = 0\n",
    "count =-1\n",
    "for i in description_set:\n",
    "    length = len(i)\n",
    "    count+=1\n",
    "    len_max = max(length,len_max)\n",
    "    if len_max == length:\n",
    "        max_index=count  "
   ]
  },
  {
   "cell_type": "code",
   "execution_count": 9,
   "metadata": {
    "collapsed": false
   },
   "outputs": [
    {
     "name": "stdout",
     "output_type": "stream",
     "text": [
      "58\n",
      "RECOVERED - MV RECOVERED IN BOSTON (STOLEN OUTSIDE BOSTON)\n"
     ]
    }
   ],
   "source": [
    "dscrp_list = list(description_set)\n",
    "print(len_max)\n",
    "print(dscrp_list[max_index])"
   ]
  },
  {
   "cell_type": "code",
   "execution_count": 10,
   "metadata": {
    "collapsed": false,
    "scrolled": true
   },
   "outputs": [
    {
     "name": "stdout",
     "output_type": "stream",
     "text": [
      "['incident_number', 'offense_code', 'description', 'date', 'day_of_the_week', 'lat', 'long']\n",
      "['1', '619', 'LARCENY ALL OTHERS', '2018-09-02', 'Sunday', '42.35779134', '-71.13937053']\n"
     ]
    }
   ],
   "source": [
    "# reviewing data to create table and formats\n",
    "print(col_headers)\n",
    "print(first_row)"
   ]
  },
  {
   "cell_type": "markdown",
   "metadata": {
    "collapsed": true
   },
   "source": [
    "<span style=\"background-color: #f0f0f0; padding: 2px 5px; border-radius: 3px;\">incident_numer</span> - This will be the primary key as it is a unique identifier. We can use an INTEGER datatype as it goes up to 300K\n",
    "\n",
    "<span style=\"background-color: #f0f0f0; padding: 2px 5px; border-radius: 3px;\">offense_code</span> - This will be an INTEGER as well \n",
    "\n",
    "<span style=\"background-color: #f0f0f0; padding: 2px 5px; border-radius: 3px;\">description</span> - Our max description length was 58 chars so we could use a VARCHAR of 75 for some wiggle room if more data is added while saving space vs using TEXT\n",
    "\n",
    "<span style=\"background-color: #f0f0f0; padding: 2px 5px; border-radius: 3px;\">date</span> - We will use DATE type\n",
    "\n",
    "<span style=\"background-color: #f0f0f0; padding: 2px 5px; border-radius: 3px;\">day_of_the_week</span> - We will use a enumerated data type since the values should be between 7 types (we don't want othe ways to spell a day of the week)\n",
    "\n",
    "<span style=\"background-color: #f0f0f0; padding: 2px 5px; border-radius: 3px;\">lat</span> - We will use decimal for lat as it is a decimal number\n",
    "\n",
    "<span style=\"background-color: #f0f0f0; padding: 2px 5px; border-radius: 3px;\">long</span> - We will use decimal for long as it is a decimal number"
   ]
  },
  {
   "cell_type": "code",
   "execution_count": 34,
   "metadata": {
    "collapsed": false,
    "scrolled": true
   },
   "outputs": [],
   "source": [
    "# creating enumerated day of week column\n",
    "cur.execute(\"CREATE TYPE day_of_week AS ENUM ('Sunday', 'Monday', 'Tuesday', 'Wednesday', 'Thursday', 'Friday', 'Saturday')\")"
   ]
  },
  {
   "cell_type": "code",
   "execution_count": 35,
   "metadata": {
    "collapsed": false
   },
   "outputs": [],
   "source": [
    "# creating column names and data types\n",
    "cur.execute(\"\"\"\n",
    "            CREATE TABLE crimes.boston_crimes(\n",
    "                incident_number INTEGER PRIMARY KEY,\n",
    "                offense_code INTEGER,\n",
    "                description VARCHAR(75),\n",
    "                date DATE,\n",
    "                day day_of_week,\n",
    "                lat decimal,\n",
    "                long decimal                \n",
    "                );\n",
    "                \"\"\"\n",
    "            )"
   ]
  },
  {
   "cell_type": "code",
   "execution_count": 36,
   "metadata": {
    "collapsed": false
   },
   "outputs": [],
   "source": [
    "# copying CSV into the created table\n",
    "with open(\"boston.csv\") as f:\n",
    "    cur.copy_expert(\"COPY crimes.boston_crimes FROM STDIN WITH CSV HEADER;\",f)"
   ]
  },
  {
   "cell_type": "code",
   "execution_count": 49,
   "metadata": {
    "collapsed": false
   },
   "outputs": [
    {
     "data": {
      "text/plain": [
       "[(1,\n",
       "  619,\n",
       "  'LARCENY ALL OTHERS',\n",
       "  datetime.date(2018, 9, 2),\n",
       "  'Sunday',\n",
       "  Decimal('42.35779134'),\n",
       "  Decimal('-71.13937053')),\n",
       " (2,\n",
       "  1402,\n",
       "  'VANDALISM',\n",
       "  datetime.date(2018, 8, 21),\n",
       "  'Tuesday',\n",
       "  Decimal('42.30682138'),\n",
       "  Decimal('-71.06030035')),\n",
       " (3,\n",
       "  3410,\n",
       "  'TOWED MOTOR VEHICLE',\n",
       "  datetime.date(2018, 9, 3),\n",
       "  'Monday',\n",
       "  Decimal('42.34658879'),\n",
       "  Decimal('-71.07242943')),\n",
       " (4,\n",
       "  3114,\n",
       "  'INVESTIGATE PROPERTY',\n",
       "  datetime.date(2018, 9, 3),\n",
       "  'Monday',\n",
       "  Decimal('42.33418175'),\n",
       "  Decimal('-71.07866441')),\n",
       " (5,\n",
       "  3114,\n",
       "  'INVESTIGATE PROPERTY',\n",
       "  datetime.date(2018, 9, 3),\n",
       "  'Monday',\n",
       "  Decimal('42.27536542'),\n",
       "  Decimal('-71.09036101'))]"
      ]
     },
     "execution_count": 49,
     "metadata": {},
     "output_type": "execute_result"
    }
   ],
   "source": [
    "# selecting all data and confirming it loaded correctly\n",
    "cur.execute(\"SELECT * FROM crimes.boston_crimes LIMIT 5\")\n",
    "cur.fetchall()"
   ]
  },
  {
   "cell_type": "code",
   "execution_count": 38,
   "metadata": {
    "collapsed": true
   },
   "outputs": [],
   "source": [
    "# this revokes all priviledges for any groups or users as the public group will give them by default\n",
    "cur.execute(\"REVOKE ALL ON SCHEMA public FROM public;\")\n",
    "cur.execute(\"REVOKE ALL ON DATABASE crimes_db FROM public;\")"
   ]
  },
  {
   "cell_type": "code",
   "execution_count": 39,
   "metadata": {
    "collapsed": true
   },
   "outputs": [],
   "source": [
    "# this creates a readonly and readwrite group\n",
    "cur.execute(\"CREATE GROUP readonly NOLOGIN;\")\n",
    "cur.execute(\"CREATE GROUP readwrite NOLOGIN;\")"
   ]
  },
  {
   "cell_type": "code",
   "execution_count": 40,
   "metadata": {
    "collapsed": true
   },
   "outputs": [],
   "source": [
    "# granting connection and usage access to the crimes_db for both groups\n",
    "cur.execute(\"GRANT CONNECT ON DATABASE crimes_db TO readonly\")\n",
    "cur.execute(\"GRANT CONNECT ON DATABASE crimes_db TO readwrite\")\n",
    "cur.execute(\"GRANT USAGE ON SCHEMA crimes TO readonly\")\n",
    "cur.execute(\"GRANT USAGE ON SCHEMA crimes TO readwrite\")"
   ]
  },
  {
   "cell_type": "code",
   "execution_count": 41,
   "metadata": {
    "collapsed": false
   },
   "outputs": [],
   "source": [
    "# grants permission to each group for all tables in the crimes schema\n",
    "cur.execute(\"GRANT INSERT, SELECT ON ALL TABLES IN SCHEMA crimes TO readonly\")\n",
    "cur.execute(\"GRANT SELECT, INSERT, DELETE, UPDATE ON ALL TABLES IN SCHEMA crimes TO readwrite\")"
   ]
  },
  {
   "cell_type": "code",
   "execution_count": 42,
   "metadata": {
    "collapsed": false,
    "scrolled": true
   },
   "outputs": [],
   "source": [
    "# creating users for the created db and groups\n",
    "cur.execute(\"CREATE USER data_analyst WITH PASSWORD 'secret1';\")\n",
    "cur.execute(\"GRANT readonly TO data_analyst\")"
   ]
  },
  {
   "cell_type": "code",
   "execution_count": 43,
   "metadata": {
    "collapsed": true
   },
   "outputs": [],
   "source": [
    "# creating users for the created db and groups\n",
    "cur.execute(\"CREATE USER data_scientist WITH PASSWORD 'secret2';\")\n",
    "cur.execute(\"GRANT readwrite TO data_scientist\")"
   ]
  },
  {
   "cell_type": "code",
   "execution_count": 47,
   "metadata": {
    "collapsed": false
   },
   "outputs": [
    {
     "data": {
      "text/plain": [
       "[('readwrite', 'INSERT'),\n",
       " ('readwrite', 'SELECT'),\n",
       " ('readwrite', 'UPDATE'),\n",
       " ('readwrite', 'DELETE')]"
      ]
     },
     "execution_count": 47,
     "metadata": {},
     "output_type": "execute_result"
    }
   ],
   "source": [
    "# checkiong the priviledges on readwrite account\n",
    "cur.execute(\"SELECT grantee, privilege_type FROM information_schema.table_privileges WHERE grantee = 'readwrite';\")\n",
    "cur.fetchall()"
   ]
  },
  {
   "cell_type": "code",
   "execution_count": 48,
   "metadata": {
    "collapsed": false
   },
   "outputs": [
    {
     "data": {
      "text/plain": [
       "[('readonly', 'INSERT'), ('readonly', 'SELECT')]"
      ]
     },
     "execution_count": 48,
     "metadata": {},
     "output_type": "execute_result"
    }
   ],
   "source": [
    "# checkiong the priviledges on readonly account\n",
    "cur.execute(\"SELECT grantee, privilege_type FROM information_schema.table_privileges WHERE grantee = 'readonly';\")\n",
    "cur.fetchall()"
   ]
  },
  {
   "cell_type": "code",
   "execution_count": 33,
   "metadata": {
    "collapsed": true
   },
   "outputs": [],
   "source": [
    "# use conn.rollback() if errors happen with the kernal"
   ]
  }
 ],
 "metadata": {
  "kernelspec": {
   "display_name": "Python 3",
   "language": "python",
   "name": "python3"
  },
  "language_info": {
   "codemirror_mode": {
    "name": "ipython",
    "version": 3
   },
   "file_extension": ".py",
   "mimetype": "text/x-python",
   "name": "python",
   "nbconvert_exporter": "python",
   "pygments_lexer": "ipython3",
   "version": "3.4.3"
  }
 },
 "nbformat": 4,
 "nbformat_minor": 2
}
