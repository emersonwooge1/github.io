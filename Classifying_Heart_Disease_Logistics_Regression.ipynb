{
 "cells": [
  {
   "cell_type": "markdown",
   "metadata": {},
   "source": [
    "# Classifying Heart Disease with Logistics Regression Modeling"
   ]
  },
  {
   "cell_type": "markdown",
   "metadata": {},
   "source": [
    "The purpose of the project is to utilize logistics regression modeling to predict heart disease. This project will use a Heart Disease Data Set from the UCI Machine Learning Repository which captures various data inlcluding: age, chest pain and other patient characteristics to classify the precense of heart disease."
   ]
  },
  {
   "cell_type": "code",
   "execution_count": 1,
   "metadata": {},
   "outputs": [],
   "source": [
    "import numpy as np\n",
    "import pandas as pd\n",
    "from sklearn.linear_model import LogisticRegression\n",
    "from sklearn.metrics import confusion_matrix\n",
    "from sklearn.model_selection import train_test_split\n",
    "\n",
    "# importing libraries and modules     "
   ]
  },
  {
   "cell_type": "code",
   "execution_count": 2,
   "metadata": {},
   "outputs": [
    {
     "data": {
      "text/html": [
       "<div>\n",
       "<style scoped>\n",
       "    .dataframe tbody tr th:only-of-type {\n",
       "        vertical-align: middle;\n",
       "    }\n",
       "\n",
       "    .dataframe tbody tr th {\n",
       "        vertical-align: top;\n",
       "    }\n",
       "\n",
       "    .dataframe thead th {\n",
       "        text-align: right;\n",
       "    }\n",
       "</style>\n",
       "<table border=\"1\" class=\"dataframe\">\n",
       "  <thead>\n",
       "    <tr style=\"text-align: right;\">\n",
       "      <th></th>\n",
       "      <th>Unnamed: 0</th>\n",
       "      <th>age</th>\n",
       "      <th>sex</th>\n",
       "      <th>cp</th>\n",
       "      <th>trestbps</th>\n",
       "      <th>chol</th>\n",
       "      <th>fbs</th>\n",
       "      <th>restecg</th>\n",
       "      <th>thalach</th>\n",
       "      <th>exang</th>\n",
       "      <th>oldpeak</th>\n",
       "      <th>slope</th>\n",
       "      <th>ca</th>\n",
       "      <th>thal</th>\n",
       "      <th>present</th>\n",
       "    </tr>\n",
       "  </thead>\n",
       "  <tbody>\n",
       "    <tr>\n",
       "      <th>0</th>\n",
       "      <td>1</td>\n",
       "      <td>63</td>\n",
       "      <td>1</td>\n",
       "      <td>1</td>\n",
       "      <td>145</td>\n",
       "      <td>233</td>\n",
       "      <td>1</td>\n",
       "      <td>2</td>\n",
       "      <td>150</td>\n",
       "      <td>0</td>\n",
       "      <td>2.3</td>\n",
       "      <td>3</td>\n",
       "      <td>0.0</td>\n",
       "      <td>6.0</td>\n",
       "      <td>0</td>\n",
       "    </tr>\n",
       "    <tr>\n",
       "      <th>1</th>\n",
       "      <td>2</td>\n",
       "      <td>67</td>\n",
       "      <td>1</td>\n",
       "      <td>4</td>\n",
       "      <td>160</td>\n",
       "      <td>286</td>\n",
       "      <td>0</td>\n",
       "      <td>2</td>\n",
       "      <td>108</td>\n",
       "      <td>1</td>\n",
       "      <td>1.5</td>\n",
       "      <td>2</td>\n",
       "      <td>3.0</td>\n",
       "      <td>3.0</td>\n",
       "      <td>1</td>\n",
       "    </tr>\n",
       "    <tr>\n",
       "      <th>2</th>\n",
       "      <td>3</td>\n",
       "      <td>67</td>\n",
       "      <td>1</td>\n",
       "      <td>4</td>\n",
       "      <td>120</td>\n",
       "      <td>229</td>\n",
       "      <td>0</td>\n",
       "      <td>2</td>\n",
       "      <td>129</td>\n",
       "      <td>1</td>\n",
       "      <td>2.6</td>\n",
       "      <td>2</td>\n",
       "      <td>2.0</td>\n",
       "      <td>7.0</td>\n",
       "      <td>1</td>\n",
       "    </tr>\n",
       "    <tr>\n",
       "      <th>3</th>\n",
       "      <td>4</td>\n",
       "      <td>37</td>\n",
       "      <td>1</td>\n",
       "      <td>3</td>\n",
       "      <td>130</td>\n",
       "      <td>250</td>\n",
       "      <td>0</td>\n",
       "      <td>0</td>\n",
       "      <td>187</td>\n",
       "      <td>0</td>\n",
       "      <td>3.5</td>\n",
       "      <td>3</td>\n",
       "      <td>0.0</td>\n",
       "      <td>3.0</td>\n",
       "      <td>0</td>\n",
       "    </tr>\n",
       "    <tr>\n",
       "      <th>4</th>\n",
       "      <td>5</td>\n",
       "      <td>41</td>\n",
       "      <td>0</td>\n",
       "      <td>2</td>\n",
       "      <td>130</td>\n",
       "      <td>204</td>\n",
       "      <td>0</td>\n",
       "      <td>2</td>\n",
       "      <td>172</td>\n",
       "      <td>0</td>\n",
       "      <td>1.4</td>\n",
       "      <td>1</td>\n",
       "      <td>0.0</td>\n",
       "      <td>3.0</td>\n",
       "      <td>0</td>\n",
       "    </tr>\n",
       "  </tbody>\n",
       "</table>\n",
       "</div>"
      ],
      "text/plain": [
       "   Unnamed: 0  age  sex  cp  trestbps  chol  fbs  restecg  thalach  exang  \\\n",
       "0           1   63    1   1       145   233    1        2      150      0   \n",
       "1           2   67    1   4       160   286    0        2      108      1   \n",
       "2           3   67    1   4       120   229    0        2      129      1   \n",
       "3           4   37    1   3       130   250    0        0      187      0   \n",
       "4           5   41    0   2       130   204    0        2      172      0   \n",
       "\n",
       "   oldpeak  slope   ca thal  present  \n",
       "0      2.3      3  0.0  6.0        0  \n",
       "1      1.5      2  3.0  3.0        1  \n",
       "2      2.6      2  2.0  7.0        1  \n",
       "3      3.5      3  0.0  3.0        0  \n",
       "4      1.4      1  0.0  3.0        0  "
      ]
     },
     "execution_count": 2,
     "metadata": {},
     "output_type": "execute_result"
    }
   ],
   "source": [
    "heart = pd.read_csv(\"heart_disease.csv\")\n",
    "heart.head()\n",
    "\n",
    "# importing data viewing the top 5 rows"
   ]
  },
  {
   "cell_type": "markdown",
   "metadata": {},
   "source": [
    "### Data Profiling"
   ]
  },
  {
   "cell_type": "code",
   "execution_count": 3,
   "metadata": {},
   "outputs": [
    {
     "name": "stdout",
     "output_type": "stream",
     "text": [
      "<class 'pandas.core.frame.DataFrame'>\n",
      "RangeIndex: 303 entries, 0 to 302\n",
      "Data columns (total 15 columns):\n",
      " #   Column      Non-Null Count  Dtype  \n",
      "---  ------      --------------  -----  \n",
      " 0   Unnamed: 0  303 non-null    int64  \n",
      " 1   age         303 non-null    int64  \n",
      " 2   sex         303 non-null    int64  \n",
      " 3   cp          303 non-null    int64  \n",
      " 4   trestbps    303 non-null    int64  \n",
      " 5   chol        303 non-null    int64  \n",
      " 6   fbs         303 non-null    int64  \n",
      " 7   restecg     303 non-null    int64  \n",
      " 8   thalach     303 non-null    int64  \n",
      " 9   exang       303 non-null    int64  \n",
      " 10  oldpeak     303 non-null    float64\n",
      " 11  slope       303 non-null    int64  \n",
      " 12  ca          303 non-null    object \n",
      " 13  thal        303 non-null    object \n",
      " 14  present     303 non-null    int64  \n",
      "dtypes: float64(1), int64(12), object(2)\n",
      "memory usage: 35.6+ KB\n"
     ]
    }
   ],
   "source": [
    "heart.info()"
   ]
  },
  {
   "cell_type": "code",
   "execution_count": 4,
   "metadata": {},
   "outputs": [
    {
     "data": {
      "text/html": [
       "<div>\n",
       "<style scoped>\n",
       "    .dataframe tbody tr th:only-of-type {\n",
       "        vertical-align: middle;\n",
       "    }\n",
       "\n",
       "    .dataframe tbody tr th {\n",
       "        vertical-align: top;\n",
       "    }\n",
       "\n",
       "    .dataframe thead th {\n",
       "        text-align: right;\n",
       "    }\n",
       "</style>\n",
       "<table border=\"1\" class=\"dataframe\">\n",
       "  <thead>\n",
       "    <tr style=\"text-align: right;\">\n",
       "      <th></th>\n",
       "      <th>Unnamed: 0</th>\n",
       "      <th>age</th>\n",
       "      <th>sex</th>\n",
       "      <th>cp</th>\n",
       "      <th>trestbps</th>\n",
       "      <th>chol</th>\n",
       "      <th>fbs</th>\n",
       "      <th>restecg</th>\n",
       "      <th>thalach</th>\n",
       "      <th>exang</th>\n",
       "      <th>oldpeak</th>\n",
       "      <th>slope</th>\n",
       "      <th>present</th>\n",
       "    </tr>\n",
       "  </thead>\n",
       "  <tbody>\n",
       "    <tr>\n",
       "      <th>count</th>\n",
       "      <td>303.000000</td>\n",
       "      <td>303.000000</td>\n",
       "      <td>303.000000</td>\n",
       "      <td>303.000000</td>\n",
       "      <td>303.000000</td>\n",
       "      <td>303.000000</td>\n",
       "      <td>303.000000</td>\n",
       "      <td>303.000000</td>\n",
       "      <td>303.000000</td>\n",
       "      <td>303.000000</td>\n",
       "      <td>303.000000</td>\n",
       "      <td>303.000000</td>\n",
       "      <td>303.000000</td>\n",
       "    </tr>\n",
       "    <tr>\n",
       "      <th>mean</th>\n",
       "      <td>152.000000</td>\n",
       "      <td>54.438944</td>\n",
       "      <td>0.679868</td>\n",
       "      <td>3.158416</td>\n",
       "      <td>131.689769</td>\n",
       "      <td>246.693069</td>\n",
       "      <td>0.148515</td>\n",
       "      <td>0.990099</td>\n",
       "      <td>149.607261</td>\n",
       "      <td>0.326733</td>\n",
       "      <td>1.039604</td>\n",
       "      <td>1.600660</td>\n",
       "      <td>0.458746</td>\n",
       "    </tr>\n",
       "    <tr>\n",
       "      <th>std</th>\n",
       "      <td>87.612784</td>\n",
       "      <td>9.038662</td>\n",
       "      <td>0.467299</td>\n",
       "      <td>0.960126</td>\n",
       "      <td>17.599748</td>\n",
       "      <td>51.776918</td>\n",
       "      <td>0.356198</td>\n",
       "      <td>0.994971</td>\n",
       "      <td>22.875003</td>\n",
       "      <td>0.469794</td>\n",
       "      <td>1.161075</td>\n",
       "      <td>0.616226</td>\n",
       "      <td>0.499120</td>\n",
       "    </tr>\n",
       "    <tr>\n",
       "      <th>min</th>\n",
       "      <td>1.000000</td>\n",
       "      <td>29.000000</td>\n",
       "      <td>0.000000</td>\n",
       "      <td>1.000000</td>\n",
       "      <td>94.000000</td>\n",
       "      <td>126.000000</td>\n",
       "      <td>0.000000</td>\n",
       "      <td>0.000000</td>\n",
       "      <td>71.000000</td>\n",
       "      <td>0.000000</td>\n",
       "      <td>0.000000</td>\n",
       "      <td>1.000000</td>\n",
       "      <td>0.000000</td>\n",
       "    </tr>\n",
       "    <tr>\n",
       "      <th>25%</th>\n",
       "      <td>76.500000</td>\n",
       "      <td>48.000000</td>\n",
       "      <td>0.000000</td>\n",
       "      <td>3.000000</td>\n",
       "      <td>120.000000</td>\n",
       "      <td>211.000000</td>\n",
       "      <td>0.000000</td>\n",
       "      <td>0.000000</td>\n",
       "      <td>133.500000</td>\n",
       "      <td>0.000000</td>\n",
       "      <td>0.000000</td>\n",
       "      <td>1.000000</td>\n",
       "      <td>0.000000</td>\n",
       "    </tr>\n",
       "    <tr>\n",
       "      <th>50%</th>\n",
       "      <td>152.000000</td>\n",
       "      <td>56.000000</td>\n",
       "      <td>1.000000</td>\n",
       "      <td>3.000000</td>\n",
       "      <td>130.000000</td>\n",
       "      <td>241.000000</td>\n",
       "      <td>0.000000</td>\n",
       "      <td>1.000000</td>\n",
       "      <td>153.000000</td>\n",
       "      <td>0.000000</td>\n",
       "      <td>0.800000</td>\n",
       "      <td>2.000000</td>\n",
       "      <td>0.000000</td>\n",
       "    </tr>\n",
       "    <tr>\n",
       "      <th>75%</th>\n",
       "      <td>227.500000</td>\n",
       "      <td>61.000000</td>\n",
       "      <td>1.000000</td>\n",
       "      <td>4.000000</td>\n",
       "      <td>140.000000</td>\n",
       "      <td>275.000000</td>\n",
       "      <td>0.000000</td>\n",
       "      <td>2.000000</td>\n",
       "      <td>166.000000</td>\n",
       "      <td>1.000000</td>\n",
       "      <td>1.600000</td>\n",
       "      <td>2.000000</td>\n",
       "      <td>1.000000</td>\n",
       "    </tr>\n",
       "    <tr>\n",
       "      <th>max</th>\n",
       "      <td>303.000000</td>\n",
       "      <td>77.000000</td>\n",
       "      <td>1.000000</td>\n",
       "      <td>4.000000</td>\n",
       "      <td>200.000000</td>\n",
       "      <td>564.000000</td>\n",
       "      <td>1.000000</td>\n",
       "      <td>2.000000</td>\n",
       "      <td>202.000000</td>\n",
       "      <td>1.000000</td>\n",
       "      <td>6.200000</td>\n",
       "      <td>3.000000</td>\n",
       "      <td>1.000000</td>\n",
       "    </tr>\n",
       "  </tbody>\n",
       "</table>\n",
       "</div>"
      ],
      "text/plain": [
       "       Unnamed: 0         age         sex          cp    trestbps        chol  \\\n",
       "count  303.000000  303.000000  303.000000  303.000000  303.000000  303.000000   \n",
       "mean   152.000000   54.438944    0.679868    3.158416  131.689769  246.693069   \n",
       "std     87.612784    9.038662    0.467299    0.960126   17.599748   51.776918   \n",
       "min      1.000000   29.000000    0.000000    1.000000   94.000000  126.000000   \n",
       "25%     76.500000   48.000000    0.000000    3.000000  120.000000  211.000000   \n",
       "50%    152.000000   56.000000    1.000000    3.000000  130.000000  241.000000   \n",
       "75%    227.500000   61.000000    1.000000    4.000000  140.000000  275.000000   \n",
       "max    303.000000   77.000000    1.000000    4.000000  200.000000  564.000000   \n",
       "\n",
       "              fbs     restecg     thalach       exang     oldpeak       slope  \\\n",
       "count  303.000000  303.000000  303.000000  303.000000  303.000000  303.000000   \n",
       "mean     0.148515    0.990099  149.607261    0.326733    1.039604    1.600660   \n",
       "std      0.356198    0.994971   22.875003    0.469794    1.161075    0.616226   \n",
       "min      0.000000    0.000000   71.000000    0.000000    0.000000    1.000000   \n",
       "25%      0.000000    0.000000  133.500000    0.000000    0.000000    1.000000   \n",
       "50%      0.000000    1.000000  153.000000    0.000000    0.800000    2.000000   \n",
       "75%      0.000000    2.000000  166.000000    1.000000    1.600000    2.000000   \n",
       "max      1.000000    2.000000  202.000000    1.000000    6.200000    3.000000   \n",
       "\n",
       "          present  \n",
       "count  303.000000  \n",
       "mean     0.458746  \n",
       "std      0.499120  \n",
       "min      0.000000  \n",
       "25%      0.000000  \n",
       "50%      0.000000  \n",
       "75%      1.000000  \n",
       "max      1.000000  "
      ]
     },
     "execution_count": 4,
     "metadata": {},
     "output_type": "execute_result"
    }
   ],
   "source": [
    "heart.describe()"
   ]
  },
  {
   "cell_type": "markdown",
   "metadata": {},
   "source": [
    "No issues with null values or data types. Summary statistics do not present any obvious issues as well."
   ]
  },
  {
   "cell_type": "markdown",
   "metadata": {},
   "source": [
    "### Features Selection"
   ]
  },
  {
   "cell_type": "code",
   "execution_count": 5,
   "metadata": {},
   "outputs": [
    {
     "data": {
      "text/plain": [
       "<AxesSubplot:>"
      ]
     },
     "execution_count": 5,
     "metadata": {},
     "output_type": "execute_result"
    },
    {
     "data": {
      "image/png": "[encoded data removed]",
      "text/plain": [
       "<Figure size 640x480 with 1 Axes>"
      ]
     },
     "metadata": {},
     "output_type": "display_data"
    }
   ],
   "source": [
    "heart[\"present\"].hist()"
   ]
  },
  {
   "cell_type": "markdown",
   "metadata": {},
   "source": [
    "Based on the historgram plot above, our target variable has a good distribution of cases and non-cases of heart disease. These means there shouldn't be any issues when splitting the data into training vs test sets"
   ]
  },
  {
   "cell_type": "code",
   "execution_count": 6,
   "metadata": {},
   "outputs": [],
   "source": [
    "heart = heart[~heart.isin([\"?\"]).any(axis = 1)]\n",
    "\n",
    "heart[\"ca\"] = heart[\"ca\"].astype(float)\n",
    "heart[\"thal\"] = heart[\"thal\"].astype(float)\n",
    "\n",
    "# There are < 10 rows in columns ca and thal with ? values. After reviewing the definitions, will drop the columns and convert to numerics"
   ]
  },
  {
   "cell_type": "code",
   "execution_count": 7,
   "metadata": {},
   "outputs": [
    {
     "data": {
      "text/plain": [
       "thalach      -0.423817\n",
       "fbs           0.003167\n",
       "Unnamed: 0    0.051891\n",
       "chol          0.080285\n",
       "trestbps      0.153490\n",
       "restecg       0.166343\n",
       "age           0.227075\n",
       "sex           0.278467\n",
       "slope         0.333049\n",
       "cp            0.408945\n",
       "exang         0.421355\n",
       "oldpeak       0.424052\n",
       "ca            0.463189\n",
       "thal          0.526640\n",
       "present       1.000000\n",
       "Name: present, dtype: float64"
      ]
     },
     "execution_count": 7,
     "metadata": {},
     "output_type": "execute_result"
    }
   ],
   "source": [
    "heart.corr()[\"present\"].sort_values()\n",
    "\n",
    "# reviewing correlation coeffs"
   ]
  },
  {
   "cell_type": "code",
   "execution_count": 8,
   "metadata": {},
   "outputs": [],
   "source": [
    "diff_df = heart.groupby(\"present\").agg(\n",
    "    {\n",
    "        \"age\": \"mean\",\n",
    "        \"sex\": \"mean\",\n",
    "        \"cp\": \"mean\",\n",
    "        \"trestbps\": \"mean\",\n",
    "        \"chol\": \"mean\",\n",
    "        \"fbs\": \"mean\",\n",
    "        \"restecg\": \"mean\",\n",
    "        \"thalach\": \"mean\",\n",
    "        \"exang\": \"mean\",\n",
    "        \"oldpeak\": \"mean\",\n",
    "        \"slope\": \"mean\",\n",
    "        \"ca\": \"mean\",\n",
    "        \"thal\": \"mean\"\n",
    "    }\n",
    ")\n",
    "\n",
    "# reviewing highest variations in means between variables"
   ]
  },
  {
   "cell_type": "code",
   "execution_count": 9,
   "metadata": {},
   "outputs": [
    {
     "data": {
      "text/plain": [
       "thalach    -19.471761\n",
       "fbs          0.002235\n",
       "sex          0.261268\n",
       "restecg      0.331432\n",
       "exang        0.396396\n",
       "slope        0.412318\n",
       "cp           0.790192\n",
       "ca           0.870985\n",
       "oldpeak      0.990301\n",
       "thal         2.044617\n",
       "age          4.115374\n",
       "trestbps     5.460036\n",
       "chol         8.360265\n",
       "dtype: float64"
      ]
     },
     "execution_count": 9,
     "metadata": {},
     "output_type": "execute_result"
    }
   ],
   "source": [
    "differences = diff_df.iloc[1]- diff_df.iloc[0]\n",
    "differences.sort_values()\n",
    "\n",
    "# reviewing highest mean change within predictors"
   ]
  },
  {
   "cell_type": "markdown",
   "metadata": {},
   "source": [
    "Based on the mean average differences and linear correlations, we will use thalach, thal, oldpeak, and ca as our predictors as these have the highest R^2 linear correlations with also high differences in mean values."
   ]
  },
  {
   "cell_type": "markdown",
   "metadata": {},
   "source": [
    "### Creating the Model"
   ]
  },
  {
   "cell_type": "code",
   "execution_count": 10,
   "metadata": {},
   "outputs": [],
   "source": [
    "X = heart[[\"age\", \"thalach\", \"restecg\", \"ca\"]]\n",
    "y = heart[\"present\"]\n",
    "\n",
    "X_train, X_test, y_train, y_test = train_test_split(X, y, test_size = 0.25, random_state = 44)\n",
    "\n",
    "# splitting data into training and test sets"
   ]
  },
  {
   "cell_type": "code",
   "execution_count": 11,
   "metadata": {},
   "outputs": [
    {
     "name": "stdout",
     "output_type": "stream",
     "text": [
      "Y_train negative:  122\n",
      "Y_train positive:  100\n",
      "Y_test negative:  38\n",
      "Y_test positive:  37\n"
     ]
    }
   ],
   "source": [
    "print(\"Y_train negative: \", sum(y_train == 0))\n",
    "print(\"Y_train positive: \", sum(y_train == 1))\n",
    "print(\"Y_test negative: \", sum(y_test == 0))\n",
    "print(\"Y_test positive: \", sum(y_test == 1))\n",
    "\n",
    "# confirming we have sufficient predictors and all sets of data"
   ]
  },
  {
   "cell_type": "code",
   "execution_count": 12,
   "metadata": {},
   "outputs": [
    {
     "data": {
      "text/plain": [
       "LogisticRegression()"
      ]
     },
     "execution_count": 12,
     "metadata": {},
     "output_type": "execute_result"
    }
   ],
   "source": [
    "model = LogisticRegression()\n",
    "model.fit(X_train, y_train)\n",
    "\n",
    "# running logistics regression model"
   ]
  },
  {
   "cell_type": "markdown",
   "metadata": {
    "tags": []
   },
   "source": [
    "### Model Accuracy on Training Data"
   ]
  },
  {
   "cell_type": "code",
   "execution_count": 18,
   "metadata": {},
   "outputs": [
    {
     "name": "stdout",
     "output_type": "stream",
     "text": [
      "Training Accuracy:  0.7702702702702703\n",
      "Training Sensitivity:  0.68\n",
      "Training Specificity:  0.8442622950819673\n"
     ]
    }
   ],
   "source": [
    "acc = model.score(X_train, y_train)\n",
    "\n",
    "predictions = model.predict(X_train)\n",
    "tp = sum((predictions == 1) & (y_train == 1))\n",
    "fp = sum((predictions == 1) & (y_train == 0))\n",
    "tn = sum((predictions == 0) & (y_train == 0))\n",
    "fn = sum((predictions == 0) & (y_train == 1))\n",
    "sens = tp / (tp + fn)\n",
    "spec = tn / (tn + fp)\n",
    "\n",
    "print(\"Training Accuracy: \", acc)\n",
    "print(\"Training Sensitivity: \", sens)\n",
    "print(\"Training Specificity: \", spec)"
   ]
  },
  {
   "cell_type": "markdown",
   "metadata": {},
   "source": [
    "Per the metrics above, the training data was accurate 77% of the time which is pretty good. Training sensitivity is how accurate positive cases are and specificity is how accurate negative cases were. Based on this, the model performs better on negative cases."
   ]
  },
  {
   "cell_type": "markdown",
   "metadata": {},
   "source": [
    "### Interpreting Model Coefficients"
   ]
  },
  {
   "cell_type": "code",
   "execution_count": 14,
   "metadata": {},
   "outputs": [],
   "source": [
    "coefs = model.coef_\n",
    "names = X.columns\n",
    "\n",
    "# pulling coefs and column names"
   ]
  },
  {
   "cell_type": "code",
   "execution_count": 15,
   "metadata": {},
   "outputs": [
    {
     "name": "stdout",
     "output_type": "stream",
     "text": [
      "{-0.01926584111954089, 'age'}\n",
      "{-0.041866232130862865, 'thalach'}\n",
      "{0.24651681925605548, 'restecg'}\n",
      "{1.090657806536614, 'ca'}\n"
     ]
    }
   ],
   "source": [
    "for n, c in zip(names, coefs[0]):\n",
    "    print({n, c})"
   ]
  },
  {
   "cell_type": "markdown",
   "metadata": {},
   "source": [
    "Based on these coefficients, as age decreases the risk for heart disease does as well as well as thalach which decreases the rate at a x4 factor as compared to age. The remaining variables restecg and increase likelihood of heart disease with increases with ca having a x4 factor compared to restecg."
   ]
  },
  {
   "cell_type": "markdown",
   "metadata": {},
   "source": [
    "### Model Evaluation"
   ]
  },
  {
   "cell_type": "code",
   "execution_count": 17,
   "metadata": {},
   "outputs": [
    {
     "name": "stdout",
     "output_type": "stream",
     "text": [
      "Training Accuracy:  0.72\n",
      "Training Sensitivity:  0.68\n",
      "Training Specificity:  0.8442622950819673\n"
     ]
    }
   ],
   "source": [
    "acc = model.score(X_test, y_test)\n",
    "\n",
    "predictions = model.predict(X_train)\n",
    "tp = sum((predictions == 1) & (y_train == 1))\n",
    "fp = sum((predictions == 1) & (y_train == 0))\n",
    "tn = sum((predictions == 0) & (y_train == 0))\n",
    "fn = sum((predictions == 0) & (y_train == 1))\n",
    "sens = tp / (tp + fn)\n",
    "spec = tn / (tn + fp)\n",
    "\n",
    "print(\"Training Accuracy: \", acc)\n",
    "print(\"Training Sensitivity: \", sens)\n",
    "print(\"Training Specificity: \", spec)"
   ]
  },
  {
   "cell_type": "markdown",
   "metadata": {},
   "source": [
    "The metrics above show the model perfoerms worse on test data vs the training data although the model is still decent. Training sensitivity is how accurate positive cases are and specificity is how accurate negative cases were. Based on the test data we can againthe model performs better on negative cases."
   ]
  },
  {
   "cell_type": "code",
   "execution_count": null,
   "metadata": {},
   "outputs": [],
   "source": []
  }
 ],
 "metadata": {
  "kernelspec": {
   "display_name": "Python 3 (ipykernel)",
   "language": "python",
   "name": "python3"
  },
  "language_info": {
   "codemirror_mode": {
    "name": "ipython",
    "version": 3
   },
   "file_extension": ".py",
   "mimetype": "text/x-python",
   "name": "python",
   "nbconvert_exporter": "python",
   "pygments_lexer": "ipython3",
   "version": "3.10.6"
  }
 },
 "nbformat": 4,
 "nbformat_minor": 4
}
