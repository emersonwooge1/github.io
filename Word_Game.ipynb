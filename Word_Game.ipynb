{
 "cells": [
  {
   "cell_type": "markdown",
   "metadata": {},
   "source": [
    "# Word Raider Project"
   ]
  },
  {
   "cell_type": "markdown",
   "metadata": {},
   "source": [
    "This project will be to blah blah"
   ]
  },
  {
   "cell_type": "code",
   "execution_count": 1,
   "metadata": {},
   "outputs": [],
   "source": [
    "game_title = \"Word Raider\"\n",
    "word_bank = []\n",
    "import random as r\n",
    "\n",
    "# importing modules and defining variables"
   ]
  },
  {
   "cell_type": "code",
   "execution_count": 2,
   "metadata": {},
   "outputs": [],
   "source": [
    "with open(\"words.txt\") as word_file:\n",
    "    for line in word_file:\n",
    "        word_bank.append(line.rstrip().lower())\n",
    "        \n",
    "# importing word bank from txt file"
   ]
  },
  {
   "cell_type": "code",
   "execution_count": 3,
   "metadata": {},
   "outputs": [
    {
     "data": {
      "text/plain": [
       "['bears', 'pears', 'lions', 'kings', 'queen', 'helps', 'learn']"
      ]
     },
     "execution_count": 3,
     "metadata": {},
     "output_type": "execute_result"
    }
   ],
   "source": [
    "word_bank\n",
    "\n",
    "# diplaying word bank"
   ]
  },
  {
   "cell_type": "code",
   "execution_count": 4,
   "metadata": {},
   "outputs": [
    {
     "name": "stdout",
     "output_type": "stream",
     "text": [
      "lions\n"
     ]
    }
   ],
   "source": [
    "random_word = r.choice(word_bank)\n",
    "print(random_word)\n",
    "\n",
    "# choosing a random word from the word bank"
   ]
  },
  {
   "cell_type": "markdown",
   "metadata": {},
   "source": [
    "### Game Variables"
   ]
  },
  {
   "cell_type": "code",
   "execution_count": 5,
   "metadata": {},
   "outputs": [],
   "source": [
    "incorrect_loc = []\n",
    "not_in_word = []\n",
    "max_turns = 5\n",
    "current_turn = 0"
   ]
  },
  {
   "cell_type": "markdown",
   "metadata": {},
   "source": [
    "### Game Instructions"
   ]
  },
  {
   "cell_type": "code",
   "execution_count": 6,
   "metadata": {},
   "outputs": [
    {
     "name": "stdout",
     "output_type": "stream",
     "text": [
      "Welcome to Word Raider. There are 5 letters in this word to guess and you will have 5 guesses to get the word\n"
     ]
    }
   ],
   "source": [
    "print(\"Welcome to \" + game_title + \". There are 5 letters in this word to guess and you will have \" + str(max_turns) +\" guesses to get the word\")"
   ]
  },
  {
   "cell_type": "markdown",
   "metadata": {},
   "source": [
    "### Running Game"
   ]
  },
  {
   "cell_type": "code",
   "execution_count": 7,
   "metadata": {},
   "outputs": [
    {
     "name": "stdin",
     "output_type": "stream",
     "text": [
      "Guess a word:  bingo\n"
     ]
    },
    {
     "name": "stdout",
     "output_type": "stream",
     "text": [
      "_ i _ _ _ \n",
      "\n",
      "Incorrect location words ['n', 'o']\n",
      "letters not in word ['b', 'g']\n",
      "You have 4 more guesses left\n",
      "\n",
      "\n"
     ]
    },
    {
     "name": "stdin",
     "output_type": "stream",
     "text": [
      "Guess a word:  oinks\n"
     ]
    },
    {
     "name": "stdout",
     "output_type": "stream",
     "text": [
      "_ i _ _ s \n",
      "\n",
      "Incorrect location words ['o', 'n']\n",
      "letters not in word ['b', 'g', 'k']\n",
      "You have 3 more guesses left\n",
      "\n",
      "\n"
     ]
    },
    {
     "name": "stdin",
     "output_type": "stream",
     "text": [
      "Guess a word:  lions\n"
     ]
    },
    {
     "name": "stdout",
     "output_type": "stream",
     "text": [
      "l i o n s \n",
      "\n",
      "Congrats you win!!\n"
     ]
    }
   ],
   "source": [
    "while current_turn < max_turns:\n",
    "    # Get the player's guess\n",
    "    guess = input(\"Guess a word: \").lower()\n",
    "    if len(guess) != 5 or not guess.isalpha():\n",
    "        print(\"Please enter a 5 letter word\")\n",
    "    guess = guess.lower()\n",
    "    index = 0\n",
    "    for letter in guess:\n",
    "        if letter == random_word[index]:\n",
    "            print(letter, end = \" \")\n",
    "            if letter in incorrect_loc:\n",
    "                incorrect_loc.remove(letter)\n",
    "        elif letter in random_word:\n",
    "            incorrect_loc.append(letter)\n",
    "            print(\"_\", end = \" \")\n",
    "        elif letter not in random_word:\n",
    "            if letter not in not_in_word:\n",
    "                not_in_word.append(letter)\n",
    "            print(\"_\", end = \" \")\n",
    "        index += 1\n",
    "        if index == 5:\n",
    "            break\n",
    "    print(\"\\n\")\n",
    "    if guess == random_word:\n",
    "        print(\"Congrats you win!!\")\n",
    "        break   \n",
    "    current_turn += 1\n",
    "    print(\"Incorrect location words \" + str(incorrect_loc))\n",
    "    print(\"letters not in word \" + str(not_in_word))\n",
    "    print(\"You have \" + str(max_turns - current_turn) + \" more guesses left\") \n",
    "    incorrect_loc = [] \n",
    "    if current_turn == max_turns:\n",
    "        print(\"Sorry you lose, the correct word was \" + str(random_word))\n",
    "    print(\"\\n\")\n",
    "                   \n",
    "                  "
   ]
  }
 ],
 "metadata": {
  "kernelspec": {
   "display_name": "Python 3 (ipykernel)",
   "language": "python",
   "name": "python3"
  },
  "language_info": {
   "codemirror_mode": {
    "name": "ipython",
    "version": 3
   },
   "file_extension": ".py",
   "mimetype": "text/x-python",
   "name": "python",
   "nbconvert_exporter": "python",
   "pygments_lexer": "ipython3",
   "version": "3.10.6"
  }
 },
 "nbformat": 4,
 "nbformat_minor": 4
}
