{
 "cells": [
  {
   "cell_type": "markdown",
   "metadata": {},
   "source": [
    "# Optimizing Model Prediction"
   ]
  },
  {
   "cell_type": "markdown",
   "metadata": {},
   "source": [
    "This project will use a forest fire dataset from the UIC Machine Learning Repository to predict the extent of fire damage to a forest. We will use various machine learning techniques to optimize the model"
   ]
  },
  {
   "cell_type": "code",
   "execution_count": 1,
   "metadata": {},
   "outputs": [],
   "source": [
    "import pandas as pd\n",
    "import numpy as np\n",
    "from sklearn.linear_model import LinearRegression\n",
    "\n",
    "# importing libraries"
   ]
  },
  {
   "cell_type": "code",
   "execution_count": 2,
   "metadata": {},
   "outputs": [
    {
     "data": {
      "text/html": [
       "<div>\n",
       "<style scoped>\n",
       "    .dataframe tbody tr th:only-of-type {\n",
       "        vertical-align: middle;\n",
       "    }\n",
       "\n",
       "    .dataframe tbody tr th {\n",
       "        vertical-align: top;\n",
       "    }\n",
       "\n",
       "    .dataframe thead th {\n",
       "        text-align: right;\n",
       "    }\n",
       "</style>\n",
       "<table border=\"1\" class=\"dataframe\">\n",
       "  <thead>\n",
       "    <tr style=\"text-align: right;\">\n",
       "      <th></th>\n",
       "      <th>Unnamed: 0</th>\n",
       "      <th>X</th>\n",
       "      <th>Y</th>\n",
       "      <th>month</th>\n",
       "      <th>day</th>\n",
       "      <th>FFMC</th>\n",
       "      <th>DMC</th>\n",
       "      <th>DC</th>\n",
       "      <th>ISI</th>\n",
       "      <th>temp</th>\n",
       "      <th>RH</th>\n",
       "      <th>wind</th>\n",
       "      <th>rain</th>\n",
       "      <th>area</th>\n",
       "    </tr>\n",
       "  </thead>\n",
       "  <tbody>\n",
       "    <tr>\n",
       "      <th>0</th>\n",
       "      <td>1</td>\n",
       "      <td>7</td>\n",
       "      <td>5</td>\n",
       "      <td>mar</td>\n",
       "      <td>fri</td>\n",
       "      <td>86.2</td>\n",
       "      <td>26.2</td>\n",
       "      <td>94.3</td>\n",
       "      <td>5.1</td>\n",
       "      <td>NaN</td>\n",
       "      <td>51.0</td>\n",
       "      <td>6.7</td>\n",
       "      <td>0.0</td>\n",
       "      <td>0.0</td>\n",
       "    </tr>\n",
       "    <tr>\n",
       "      <th>1</th>\n",
       "      <td>2</td>\n",
       "      <td>7</td>\n",
       "      <td>4</td>\n",
       "      <td>oct</td>\n",
       "      <td>tue</td>\n",
       "      <td>90.6</td>\n",
       "      <td>NaN</td>\n",
       "      <td>669.1</td>\n",
       "      <td>6.7</td>\n",
       "      <td>18.0</td>\n",
       "      <td>33.0</td>\n",
       "      <td>0.9</td>\n",
       "      <td>0.0</td>\n",
       "      <td>0.0</td>\n",
       "    </tr>\n",
       "    <tr>\n",
       "      <th>2</th>\n",
       "      <td>3</td>\n",
       "      <td>7</td>\n",
       "      <td>4</td>\n",
       "      <td>oct</td>\n",
       "      <td>sat</td>\n",
       "      <td>90.6</td>\n",
       "      <td>43.7</td>\n",
       "      <td>NaN</td>\n",
       "      <td>6.7</td>\n",
       "      <td>14.6</td>\n",
       "      <td>33.0</td>\n",
       "      <td>1.3</td>\n",
       "      <td>0.0</td>\n",
       "      <td>0.0</td>\n",
       "    </tr>\n",
       "    <tr>\n",
       "      <th>3</th>\n",
       "      <td>4</td>\n",
       "      <td>8</td>\n",
       "      <td>6</td>\n",
       "      <td>mar</td>\n",
       "      <td>fri</td>\n",
       "      <td>91.7</td>\n",
       "      <td>33.3</td>\n",
       "      <td>77.5</td>\n",
       "      <td>9.0</td>\n",
       "      <td>8.3</td>\n",
       "      <td>97.0</td>\n",
       "      <td>4.0</td>\n",
       "      <td>0.2</td>\n",
       "      <td>0.0</td>\n",
       "    </tr>\n",
       "    <tr>\n",
       "      <th>4</th>\n",
       "      <td>5</td>\n",
       "      <td>8</td>\n",
       "      <td>6</td>\n",
       "      <td>mar</td>\n",
       "      <td>sun</td>\n",
       "      <td>89.3</td>\n",
       "      <td>51.3</td>\n",
       "      <td>102.2</td>\n",
       "      <td>9.6</td>\n",
       "      <td>11.4</td>\n",
       "      <td>99.0</td>\n",
       "      <td>NaN</td>\n",
       "      <td>0.0</td>\n",
       "      <td>0.0</td>\n",
       "    </tr>\n",
       "  </tbody>\n",
       "</table>\n",
       "</div>"
      ],
      "text/plain": [
       "   Unnamed: 0  X  Y month  day  FFMC   DMC     DC  ISI  temp    RH  wind  \\\n",
       "0           1  7  5   mar  fri  86.2  26.2   94.3  5.1   NaN  51.0   6.7   \n",
       "1           2  7  4   oct  tue  90.6   NaN  669.1  6.7  18.0  33.0   0.9   \n",
       "2           3  7  4   oct  sat  90.6  43.7    NaN  6.7  14.6  33.0   1.3   \n",
       "3           4  8  6   mar  fri  91.7  33.3   77.5  9.0   8.3  97.0   4.0   \n",
       "4           5  8  6   mar  sun  89.3  51.3  102.2  9.6  11.4  99.0   NaN   \n",
       "\n",
       "   rain  area  \n",
       "0   0.0   0.0  \n",
       "1   0.0   0.0  \n",
       "2   0.0   0.0  \n",
       "3   0.2   0.0  \n",
       "4   0.0   0.0  "
      ]
     },
     "execution_count": 2,
     "metadata": {},
     "output_type": "execute_result"
    }
   ],
   "source": [
    "fires = pd.read_csv(\"fires.csv\")\n",
    "fires.head()\n",
    "\n",
    "# importing and reviewing data"
   ]
  },
  {
   "cell_type": "code",
   "execution_count": 3,
   "metadata": {},
   "outputs": [
    {
     "name": "stdout",
     "output_type": "stream",
     "text": [
      "<class 'pandas.core.frame.DataFrame'>\n",
      "RangeIndex: 517 entries, 0 to 516\n",
      "Data columns (total 14 columns):\n",
      " #   Column      Non-Null Count  Dtype  \n",
      "---  ------      --------------  -----  \n",
      " 0   Unnamed: 0  517 non-null    int64  \n",
      " 1   X           517 non-null    int64  \n",
      " 2   Y           517 non-null    int64  \n",
      " 3   month       517 non-null    object \n",
      " 4   day         517 non-null    object \n",
      " 5   FFMC        469 non-null    float64\n",
      " 6   DMC         496 non-null    float64\n",
      " 7   DC          474 non-null    float64\n",
      " 8   ISI         515 non-null    float64\n",
      " 9   temp        496 non-null    float64\n",
      " 10  RH          487 non-null    float64\n",
      " 11  wind        482 non-null    float64\n",
      " 12  rain        485 non-null    float64\n",
      " 13  area        517 non-null    float64\n",
      "dtypes: float64(9), int64(3), object(2)\n",
      "memory usage: 56.7+ KB\n"
     ]
    }
   ],
   "source": [
    "fires.info()"
   ]
  },
  {
   "cell_type": "code",
   "execution_count": 4,
   "metadata": {},
   "outputs": [],
   "source": [
    "model = LinearRegression()\n",
    "\n",
    "# instantiating a linear model"
   ]
  },
  {
   "cell_type": "markdown",
   "metadata": {},
   "source": [
    "### Data Cleaning"
   ]
  },
  {
   "cell_type": "code",
   "execution_count": 5,
   "metadata": {},
   "outputs": [
    {
     "data": {
      "image/png": "[encoded data removed]",
      "text/plain": [
       "<Figure size 640x480 with 1 Axes>"
      ]
     },
     "metadata": {},
     "output_type": "display_data"
    }
   ],
   "source": [
    "hist = fires[\"area\"].hist(bins = 45)\n",
    "\n",
    "# reviewing the distribution of our target variable"
   ]
  },
  {
   "cell_type": "markdown",
   "metadata": {},
   "source": [
    "We can see the distribution is highly skewed right.  We can use a logarithmic transformation to try and normalize these values"
   ]
  },
  {
   "cell_type": "code",
   "execution_count": 6,
   "metadata": {},
   "outputs": [
    {
     "data": {
      "text/plain": [
       "array([[<AxesSubplot:title={'center':'log_area'}>]], dtype=object)"
      ]
     },
     "execution_count": 6,
     "metadata": {},
     "output_type": "execute_result"
    },
    {
     "data": {
      "image/png": "[encoded data removed]",
      "text/plain": [
       "<Figure size 640x480 with 1 Axes>"
      ]
     },
     "metadata": {},
     "output_type": "display_data"
    }
   ],
   "source": [
    "fires[\"log_area\"] = np.log(fires[\"area\"] + 1)\n",
    "\n",
    "fires.hist(\"log_area\", bins=30)\n",
    "\n",
    "# log function for area.  Adds 1 to prevent undefined errors at log(0)"
   ]
  },
  {
   "cell_type": "markdown",
   "metadata": {},
   "source": [
    "We can see this worked fairly well even though we still have a large cluster close to 0."
   ]
  },
  {
   "cell_type": "code",
   "execution_count": 7,
   "metadata": {},
   "outputs": [
    {
     "data": {
      "text/plain": [
       "month\n",
       "apr     8.891111\n",
       "aug    12.489076\n",
       "dec    13.330000\n",
       "feb     6.275000\n",
       "jan     0.000000\n",
       "jul    14.369687\n",
       "jun     5.841176\n",
       "mar     4.356667\n",
       "may    19.240000\n",
       "nov     0.000000\n",
       "oct     6.638000\n",
       "sep    17.942616\n",
       "Name: area, dtype: float64"
      ]
     },
     "execution_count": 7,
     "metadata": {},
     "output_type": "execute_result"
    }
   ],
   "source": [
    "fires.groupby(\"month\")[\"area\"].mean()\n",
    "\n",
    "# reviewing mean by month to confirm if any season grouping is worth capturing.  Not any evident pattern to where it's worth doing"
   ]
  },
  {
   "cell_type": "markdown",
   "metadata": {},
   "source": [
    "### Updating categorical data"
   ]
  },
  {
   "cell_type": "code",
   "execution_count": 8,
   "metadata": {},
   "outputs": [],
   "source": [
    "replacement = {\"jan\" : 1, \"feb\" : 2, \"mar\" : 3, \"apr\" : 4, \"may\" : 5, \"jun\" : 6, \"jul\" : 7,\n",
    "               \"aug\" : 8, \"sep\" : 9, \"oct\" : 10, \"nov\" : 11, \"dec\": 12}\n",
    "\n",
    "# creating numerical mapping for months"
   ]
  },
  {
   "cell_type": "code",
   "execution_count": 9,
   "metadata": {},
   "outputs": [
    {
     "data": {
      "text/html": [
       "<div>\n",
       "<style scoped>\n",
       "    .dataframe tbody tr th:only-of-type {\n",
       "        vertical-align: middle;\n",
       "    }\n",
       "\n",
       "    .dataframe tbody tr th {\n",
       "        vertical-align: top;\n",
       "    }\n",
       "\n",
       "    .dataframe thead th {\n",
       "        text-align: right;\n",
       "    }\n",
       "</style>\n",
       "<table border=\"1\" class=\"dataframe\">\n",
       "  <thead>\n",
       "    <tr style=\"text-align: right;\">\n",
       "      <th></th>\n",
       "      <th>Unnamed: 0</th>\n",
       "      <th>X</th>\n",
       "      <th>Y</th>\n",
       "      <th>month</th>\n",
       "      <th>day</th>\n",
       "      <th>FFMC</th>\n",
       "      <th>DMC</th>\n",
       "      <th>DC</th>\n",
       "      <th>ISI</th>\n",
       "      <th>temp</th>\n",
       "      <th>RH</th>\n",
       "      <th>wind</th>\n",
       "      <th>rain</th>\n",
       "      <th>area</th>\n",
       "      <th>log_area</th>\n",
       "    </tr>\n",
       "  </thead>\n",
       "  <tbody>\n",
       "    <tr>\n",
       "      <th>0</th>\n",
       "      <td>1</td>\n",
       "      <td>7</td>\n",
       "      <td>5</td>\n",
       "      <td>3</td>\n",
       "      <td>fri</td>\n",
       "      <td>86.2</td>\n",
       "      <td>26.2</td>\n",
       "      <td>94.3</td>\n",
       "      <td>5.1</td>\n",
       "      <td>NaN</td>\n",
       "      <td>51.0</td>\n",
       "      <td>6.7</td>\n",
       "      <td>0.0</td>\n",
       "      <td>0.0</td>\n",
       "      <td>0.0</td>\n",
       "    </tr>\n",
       "    <tr>\n",
       "      <th>1</th>\n",
       "      <td>2</td>\n",
       "      <td>7</td>\n",
       "      <td>4</td>\n",
       "      <td>10</td>\n",
       "      <td>tue</td>\n",
       "      <td>90.6</td>\n",
       "      <td>NaN</td>\n",
       "      <td>669.1</td>\n",
       "      <td>6.7</td>\n",
       "      <td>18.0</td>\n",
       "      <td>33.0</td>\n",
       "      <td>0.9</td>\n",
       "      <td>0.0</td>\n",
       "      <td>0.0</td>\n",
       "      <td>0.0</td>\n",
       "    </tr>\n",
       "    <tr>\n",
       "      <th>2</th>\n",
       "      <td>3</td>\n",
       "      <td>7</td>\n",
       "      <td>4</td>\n",
       "      <td>10</td>\n",
       "      <td>sat</td>\n",
       "      <td>90.6</td>\n",
       "      <td>43.7</td>\n",
       "      <td>NaN</td>\n",
       "      <td>6.7</td>\n",
       "      <td>14.6</td>\n",
       "      <td>33.0</td>\n",
       "      <td>1.3</td>\n",
       "      <td>0.0</td>\n",
       "      <td>0.0</td>\n",
       "      <td>0.0</td>\n",
       "    </tr>\n",
       "    <tr>\n",
       "      <th>3</th>\n",
       "      <td>4</td>\n",
       "      <td>8</td>\n",
       "      <td>6</td>\n",
       "      <td>3</td>\n",
       "      <td>fri</td>\n",
       "      <td>91.7</td>\n",
       "      <td>33.3</td>\n",
       "      <td>77.5</td>\n",
       "      <td>9.0</td>\n",
       "      <td>8.3</td>\n",
       "      <td>97.0</td>\n",
       "      <td>4.0</td>\n",
       "      <td>0.2</td>\n",
       "      <td>0.0</td>\n",
       "      <td>0.0</td>\n",
       "    </tr>\n",
       "    <tr>\n",
       "      <th>4</th>\n",
       "      <td>5</td>\n",
       "      <td>8</td>\n",
       "      <td>6</td>\n",
       "      <td>3</td>\n",
       "      <td>sun</td>\n",
       "      <td>89.3</td>\n",
       "      <td>51.3</td>\n",
       "      <td>102.2</td>\n",
       "      <td>9.6</td>\n",
       "      <td>11.4</td>\n",
       "      <td>99.0</td>\n",
       "      <td>NaN</td>\n",
       "      <td>0.0</td>\n",
       "      <td>0.0</td>\n",
       "      <td>0.0</td>\n",
       "    </tr>\n",
       "  </tbody>\n",
       "</table>\n",
       "</div>"
      ],
      "text/plain": [
       "   Unnamed: 0  X  Y  month  day  FFMC   DMC     DC  ISI  temp    RH  wind  \\\n",
       "0           1  7  5      3  fri  86.2  26.2   94.3  5.1   NaN  51.0   6.7   \n",
       "1           2  7  4     10  tue  90.6   NaN  669.1  6.7  18.0  33.0   0.9   \n",
       "2           3  7  4     10  sat  90.6  43.7    NaN  6.7  14.6  33.0   1.3   \n",
       "3           4  8  6      3  fri  91.7  33.3   77.5  9.0   8.3  97.0   4.0   \n",
       "4           5  8  6      3  sun  89.3  51.3  102.2  9.6  11.4  99.0   NaN   \n",
       "\n",
       "   rain  area  log_area  \n",
       "0   0.0   0.0       0.0  \n",
       "1   0.0   0.0       0.0  \n",
       "2   0.0   0.0       0.0  \n",
       "3   0.2   0.0       0.0  \n",
       "4   0.0   0.0       0.0  "
      ]
     },
     "execution_count": 9,
     "metadata": {},
     "output_type": "execute_result"
    }
   ],
   "source": [
    "fires[\"month\"].replace(replacement, inplace = True)\n",
    "fires.head()\n",
    "\n",
    "# overwriting the month values and confirming they're correct"
   ]
  },
  {
   "cell_type": "code",
   "execution_count": 10,
   "metadata": {},
   "outputs": [
    {
     "data": {
      "text/html": [
       "<div>\n",
       "<style scoped>\n",
       "    .dataframe tbody tr th:only-of-type {\n",
       "        vertical-align: middle;\n",
       "    }\n",
       "\n",
       "    .dataframe tbody tr th {\n",
       "        vertical-align: top;\n",
       "    }\n",
       "\n",
       "    .dataframe thead th {\n",
       "        text-align: right;\n",
       "    }\n",
       "</style>\n",
       "<table border=\"1\" class=\"dataframe\">\n",
       "  <thead>\n",
       "    <tr style=\"text-align: right;\">\n",
       "      <th></th>\n",
       "      <th>Unnamed: 0</th>\n",
       "      <th>X</th>\n",
       "      <th>Y</th>\n",
       "      <th>month</th>\n",
       "      <th>day</th>\n",
       "      <th>FFMC</th>\n",
       "      <th>DMC</th>\n",
       "      <th>DC</th>\n",
       "      <th>ISI</th>\n",
       "      <th>temp</th>\n",
       "      <th>...</th>\n",
       "      <th>rain</th>\n",
       "      <th>area</th>\n",
       "      <th>log_area</th>\n",
       "      <th>fri</th>\n",
       "      <th>mon</th>\n",
       "      <th>sat</th>\n",
       "      <th>sun</th>\n",
       "      <th>thu</th>\n",
       "      <th>tue</th>\n",
       "      <th>wed</th>\n",
       "    </tr>\n",
       "  </thead>\n",
       "  <tbody>\n",
       "    <tr>\n",
       "      <th>0</th>\n",
       "      <td>1</td>\n",
       "      <td>7</td>\n",
       "      <td>5</td>\n",
       "      <td>3</td>\n",
       "      <td>fri</td>\n",
       "      <td>86.2</td>\n",
       "      <td>26.2</td>\n",
       "      <td>94.3</td>\n",
       "      <td>5.1</td>\n",
       "      <td>NaN</td>\n",
       "      <td>...</td>\n",
       "      <td>0.0</td>\n",
       "      <td>0.0</td>\n",
       "      <td>0.0</td>\n",
       "      <td>1</td>\n",
       "      <td>0</td>\n",
       "      <td>0</td>\n",
       "      <td>0</td>\n",
       "      <td>0</td>\n",
       "      <td>0</td>\n",
       "      <td>0</td>\n",
       "    </tr>\n",
       "    <tr>\n",
       "      <th>1</th>\n",
       "      <td>2</td>\n",
       "      <td>7</td>\n",
       "      <td>4</td>\n",
       "      <td>10</td>\n",
       "      <td>tue</td>\n",
       "      <td>90.6</td>\n",
       "      <td>NaN</td>\n",
       "      <td>669.1</td>\n",
       "      <td>6.7</td>\n",
       "      <td>18.0</td>\n",
       "      <td>...</td>\n",
       "      <td>0.0</td>\n",
       "      <td>0.0</td>\n",
       "      <td>0.0</td>\n",
       "      <td>0</td>\n",
       "      <td>0</td>\n",
       "      <td>0</td>\n",
       "      <td>0</td>\n",
       "      <td>0</td>\n",
       "      <td>1</td>\n",
       "      <td>0</td>\n",
       "    </tr>\n",
       "    <tr>\n",
       "      <th>2</th>\n",
       "      <td>3</td>\n",
       "      <td>7</td>\n",
       "      <td>4</td>\n",
       "      <td>10</td>\n",
       "      <td>sat</td>\n",
       "      <td>90.6</td>\n",
       "      <td>43.7</td>\n",
       "      <td>NaN</td>\n",
       "      <td>6.7</td>\n",
       "      <td>14.6</td>\n",
       "      <td>...</td>\n",
       "      <td>0.0</td>\n",
       "      <td>0.0</td>\n",
       "      <td>0.0</td>\n",
       "      <td>0</td>\n",
       "      <td>0</td>\n",
       "      <td>1</td>\n",
       "      <td>0</td>\n",
       "      <td>0</td>\n",
       "      <td>0</td>\n",
       "      <td>0</td>\n",
       "    </tr>\n",
       "    <tr>\n",
       "      <th>3</th>\n",
       "      <td>4</td>\n",
       "      <td>8</td>\n",
       "      <td>6</td>\n",
       "      <td>3</td>\n",
       "      <td>fri</td>\n",
       "      <td>91.7</td>\n",
       "      <td>33.3</td>\n",
       "      <td>77.5</td>\n",
       "      <td>9.0</td>\n",
       "      <td>8.3</td>\n",
       "      <td>...</td>\n",
       "      <td>0.2</td>\n",
       "      <td>0.0</td>\n",
       "      <td>0.0</td>\n",
       "      <td>1</td>\n",
       "      <td>0</td>\n",
       "      <td>0</td>\n",
       "      <td>0</td>\n",
       "      <td>0</td>\n",
       "      <td>0</td>\n",
       "      <td>0</td>\n",
       "    </tr>\n",
       "    <tr>\n",
       "      <th>4</th>\n",
       "      <td>5</td>\n",
       "      <td>8</td>\n",
       "      <td>6</td>\n",
       "      <td>3</td>\n",
       "      <td>sun</td>\n",
       "      <td>89.3</td>\n",
       "      <td>51.3</td>\n",
       "      <td>102.2</td>\n",
       "      <td>9.6</td>\n",
       "      <td>11.4</td>\n",
       "      <td>...</td>\n",
       "      <td>0.0</td>\n",
       "      <td>0.0</td>\n",
       "      <td>0.0</td>\n",
       "      <td>0</td>\n",
       "      <td>0</td>\n",
       "      <td>0</td>\n",
       "      <td>1</td>\n",
       "      <td>0</td>\n",
       "      <td>0</td>\n",
       "      <td>0</td>\n",
       "    </tr>\n",
       "  </tbody>\n",
       "</table>\n",
       "<p>5 rows × 22 columns</p>\n",
       "</div>"
      ],
      "text/plain": [
       "   Unnamed: 0  X  Y  month  day  FFMC   DMC     DC  ISI  temp  ...  rain  \\\n",
       "0           1  7  5      3  fri  86.2  26.2   94.3  5.1   NaN  ...   0.0   \n",
       "1           2  7  4     10  tue  90.6   NaN  669.1  6.7  18.0  ...   0.0   \n",
       "2           3  7  4     10  sat  90.6  43.7    NaN  6.7  14.6  ...   0.0   \n",
       "3           4  8  6      3  fri  91.7  33.3   77.5  9.0   8.3  ...   0.2   \n",
       "4           5  8  6      3  sun  89.3  51.3  102.2  9.6  11.4  ...   0.0   \n",
       "\n",
       "   area  log_area  fri  mon  sat  sun  thu  tue  wed  \n",
       "0   0.0       0.0    1    0    0    0    0    0    0  \n",
       "1   0.0       0.0    0    0    0    0    0    1    0  \n",
       "2   0.0       0.0    0    0    1    0    0    0    0  \n",
       "3   0.0       0.0    1    0    0    0    0    0    0  \n",
       "4   0.0       0.0    0    0    0    1    0    0    0  \n",
       "\n",
       "[5 rows x 22 columns]"
      ]
     },
     "execution_count": 10,
     "metadata": {},
     "output_type": "execute_result"
    }
   ],
   "source": [
    "fires = pd.concat([fires, pd.get_dummies(fires[\"day\"])], axis = 1)\n",
    "fires.head()\n",
    "\n",
    "# creating numerical columns for the day of the week column and confirming it worked correctly"
   ]
  },
  {
   "cell_type": "markdown",
   "metadata": {},
   "source": [
    "### Imputing missing values"
   ]
  },
  {
   "cell_type": "code",
   "execution_count": 11,
   "metadata": {},
   "outputs": [
    {
     "data": {
      "text/html": [
       "<div>\n",
       "<style scoped>\n",
       "    .dataframe tbody tr th:only-of-type {\n",
       "        vertical-align: middle;\n",
       "    }\n",
       "\n",
       "    .dataframe tbody tr th {\n",
       "        vertical-align: top;\n",
       "    }\n",
       "\n",
       "    .dataframe thead th {\n",
       "        text-align: right;\n",
       "    }\n",
       "</style>\n",
       "<table border=\"1\" class=\"dataframe\">\n",
       "  <thead>\n",
       "    <tr style=\"text-align: right;\">\n",
       "      <th></th>\n",
       "      <th>FFMC</th>\n",
       "      <th>DMC</th>\n",
       "      <th>DC</th>\n",
       "      <th>ISI</th>\n",
       "      <th>temp</th>\n",
       "      <th>RH</th>\n",
       "      <th>wind</th>\n",
       "      <th>rain</th>\n",
       "    </tr>\n",
       "  </thead>\n",
       "  <tbody>\n",
       "    <tr>\n",
       "      <th>0</th>\n",
       "      <td>86.2</td>\n",
       "      <td>26.200000</td>\n",
       "      <td>94.300000</td>\n",
       "      <td>5.1</td>\n",
       "      <td>16.6</td>\n",
       "      <td>51.0</td>\n",
       "      <td>6.700000</td>\n",
       "      <td>0.0</td>\n",
       "    </tr>\n",
       "    <tr>\n",
       "      <th>1</th>\n",
       "      <td>90.6</td>\n",
       "      <td>56.433333</td>\n",
       "      <td>669.100000</td>\n",
       "      <td>6.7</td>\n",
       "      <td>18.0</td>\n",
       "      <td>33.0</td>\n",
       "      <td>0.900000</td>\n",
       "      <td>0.0</td>\n",
       "    </tr>\n",
       "    <tr>\n",
       "      <th>2</th>\n",
       "      <td>90.6</td>\n",
       "      <td>43.700000</td>\n",
       "      <td>470.833333</td>\n",
       "      <td>6.7</td>\n",
       "      <td>14.6</td>\n",
       "      <td>33.0</td>\n",
       "      <td>1.300000</td>\n",
       "      <td>0.0</td>\n",
       "    </tr>\n",
       "    <tr>\n",
       "      <th>3</th>\n",
       "      <td>91.7</td>\n",
       "      <td>33.300000</td>\n",
       "      <td>77.500000</td>\n",
       "      <td>9.0</td>\n",
       "      <td>8.3</td>\n",
       "      <td>97.0</td>\n",
       "      <td>4.000000</td>\n",
       "      <td>0.2</td>\n",
       "    </tr>\n",
       "    <tr>\n",
       "      <th>4</th>\n",
       "      <td>89.3</td>\n",
       "      <td>51.300000</td>\n",
       "      <td>102.200000</td>\n",
       "      <td>9.6</td>\n",
       "      <td>11.4</td>\n",
       "      <td>99.0</td>\n",
       "      <td>4.333333</td>\n",
       "      <td>0.0</td>\n",
       "    </tr>\n",
       "    <tr>\n",
       "      <th>...</th>\n",
       "      <td>...</td>\n",
       "      <td>...</td>\n",
       "      <td>...</td>\n",
       "      <td>...</td>\n",
       "      <td>...</td>\n",
       "      <td>...</td>\n",
       "      <td>...</td>\n",
       "      <td>...</td>\n",
       "    </tr>\n",
       "    <tr>\n",
       "      <th>512</th>\n",
       "      <td>81.6</td>\n",
       "      <td>56.700000</td>\n",
       "      <td>665.600000</td>\n",
       "      <td>1.9</td>\n",
       "      <td>27.8</td>\n",
       "      <td>32.0</td>\n",
       "      <td>2.700000</td>\n",
       "      <td>0.0</td>\n",
       "    </tr>\n",
       "    <tr>\n",
       "      <th>513</th>\n",
       "      <td>81.6</td>\n",
       "      <td>56.700000</td>\n",
       "      <td>665.600000</td>\n",
       "      <td>1.9</td>\n",
       "      <td>21.9</td>\n",
       "      <td>71.0</td>\n",
       "      <td>5.800000</td>\n",
       "      <td>0.0</td>\n",
       "    </tr>\n",
       "    <tr>\n",
       "      <th>514</th>\n",
       "      <td>81.6</td>\n",
       "      <td>56.700000</td>\n",
       "      <td>665.600000</td>\n",
       "      <td>1.9</td>\n",
       "      <td>21.2</td>\n",
       "      <td>70.0</td>\n",
       "      <td>6.700000</td>\n",
       "      <td>0.0</td>\n",
       "    </tr>\n",
       "    <tr>\n",
       "      <th>515</th>\n",
       "      <td>94.4</td>\n",
       "      <td>146.000000</td>\n",
       "      <td>614.700000</td>\n",
       "      <td>11.3</td>\n",
       "      <td>25.6</td>\n",
       "      <td>42.0</td>\n",
       "      <td>4.000000</td>\n",
       "      <td>0.0</td>\n",
       "    </tr>\n",
       "    <tr>\n",
       "      <th>516</th>\n",
       "      <td>79.5</td>\n",
       "      <td>3.000000</td>\n",
       "      <td>106.700000</td>\n",
       "      <td>1.1</td>\n",
       "      <td>11.8</td>\n",
       "      <td>31.0</td>\n",
       "      <td>4.500000</td>\n",
       "      <td>0.0</td>\n",
       "    </tr>\n",
       "  </tbody>\n",
       "</table>\n",
       "<p>517 rows × 8 columns</p>\n",
       "</div>"
      ],
      "text/plain": [
       "     FFMC         DMC          DC   ISI  temp    RH      wind  rain\n",
       "0    86.2   26.200000   94.300000   5.1  16.6  51.0  6.700000   0.0\n",
       "1    90.6   56.433333  669.100000   6.7  18.0  33.0  0.900000   0.0\n",
       "2    90.6   43.700000  470.833333   6.7  14.6  33.0  1.300000   0.0\n",
       "3    91.7   33.300000   77.500000   9.0   8.3  97.0  4.000000   0.2\n",
       "4    89.3   51.300000  102.200000   9.6  11.4  99.0  4.333333   0.0\n",
       "..    ...         ...         ...   ...   ...   ...       ...   ...\n",
       "512  81.6   56.700000  665.600000   1.9  27.8  32.0  2.700000   0.0\n",
       "513  81.6   56.700000  665.600000   1.9  21.9  71.0  5.800000   0.0\n",
       "514  81.6   56.700000  665.600000   1.9  21.2  70.0  6.700000   0.0\n",
       "515  94.4  146.000000  614.700000  11.3  25.6  42.0  4.000000   0.0\n",
       "516  79.5    3.000000  106.700000   1.1  11.8  31.0  4.500000   0.0\n",
       "\n",
       "[517 rows x 8 columns]"
      ]
     },
     "execution_count": 11,
     "metadata": {},
     "output_type": "execute_result"
    }
   ],
   "source": [
    "from sklearn.impute import KNNImputer\n",
    "\n",
    "imp = KNNImputer(missing_values = np.nan, n_neighbors=3)\n",
    "\n",
    "fires_missing = fires[fires.columns[5:13]] # FFMC to rain\n",
    "imputed = pd.DataFrame(imp.fit_transform(fires_missing), \n",
    "                       columns = fires.columns[5:13])\n",
    "imputed\n",
    "\n",
    "# imputing missing values on numerical columns using KNN nearest neighbor"
   ]
  },
  {
   "cell_type": "markdown",
   "metadata": {},
   "source": [
    "### Exploring outliers"
   ]
  },
  {
   "cell_type": "code",
   "execution_count": 12,
   "metadata": {},
   "outputs": [
    {
     "data": {
      "text/plain": [
       "<AxesSubplot:>"
      ]
     },
     "execution_count": 12,
     "metadata": {},
     "output_type": "execute_result"
    },
    {
     "data": {
      "image/png": "[encoded data removed]",
      "text/plain": [
       "<Figure size 640x480 with 1 Axes>"
      ]
     },
     "metadata": {},
     "output_type": "display_data"
    }
   ],
   "source": [
    "imputed.boxplot(column=[\"FFMC\", \"DMC\", \"DC\", \"ISI\", \"temp\", \"RH\", \"wind\", \"rain\"])\n",
    "\n",
    "# reviewing the distribution including imputed values to verify outliers"
   ]
  },
  {
   "cell_type": "code",
   "execution_count": 13,
   "metadata": {},
   "outputs": [],
   "source": [
    "ffmc_quart = np.percentile(imputed[\"FFMC\"], [25, 50, 75])\n",
    "iqr = ffmc_quart[2] - ffmc_quart[0]\n",
    "lower_bound = ffmc_quart[0] - (1.5 * iqr)\n",
    "upper_bound = ffmc_quart[2] + (1.5 * iqr)\n",
    "\n",
    "# calculting the quartiles and upper and lower bounds"
   ]
  },
  {
   "cell_type": "code",
   "execution_count": 14,
   "metadata": {},
   "outputs": [
    {
     "name": "stdout",
     "output_type": "stream",
     "text": [
      "The FFMC column has 53 according to the boxplot method.\n",
      "The DMC column has 22 according to the boxplot method.\n",
      "The DC column has 25 according to the boxplot method.\n",
      "The ISI column has 23 according to the boxplot method.\n",
      "The temp column has 9 according to the boxplot method.\n",
      "The RH column has 10 according to the boxplot method.\n",
      "The wind column has 13 according to the boxplot method.\n",
      "The rain column has 8 according to the boxplot method.\n"
     ]
    }
   ],
   "source": [
    "for col in imputed:\n",
    "\n",
    "    quartiles = np.percentile(imputed[col], [25, 50, 75])\n",
    "    iqr = quartiles[2] - quartiles[0]\n",
    "    lower_bound = quartiles[0] - (1.5 * iqr)\n",
    "    upper_bound = quartiles[2] + (1.5 * iqr)\n",
    "    num_outliers =sum((imputed[col] < lower_bound) | (imputed[col] > upper_bound))\n",
    "\n",
    "    print(f\"The {col} column has {num_outliers} according to the boxplot method.\")\n",
    "    \n",
    "# loop to count the number     "
   ]
  },
  {
   "cell_type": "markdown",
   "metadata": {},
   "source": [
    "Outliers may need to be further researched however none stand out significantly enough on the boxplot to raise any obvious flags.  Will include all values in the model."
   ]
  },
  {
   "cell_type": "markdown",
   "metadata": {},
   "source": [
    "### Applying a scalar to numerical values"
   ]
  },
  {
   "cell_type": "code",
   "execution_count": 16,
   "metadata": {},
   "outputs": [
    {
     "data": {
      "text/html": [
       "<div>\n",
       "<style scoped>\n",
       "    .dataframe tbody tr th:only-of-type {\n",
       "        vertical-align: middle;\n",
       "    }\n",
       "\n",
       "    .dataframe tbody tr th {\n",
       "        vertical-align: top;\n",
       "    }\n",
       "\n",
       "    .dataframe thead th {\n",
       "        text-align: right;\n",
       "    }\n",
       "</style>\n",
       "<table border=\"1\" class=\"dataframe\">\n",
       "  <thead>\n",
       "    <tr style=\"text-align: right;\">\n",
       "      <th></th>\n",
       "      <th>FFMC</th>\n",
       "      <th>DMC</th>\n",
       "      <th>DC</th>\n",
       "      <th>ISI</th>\n",
       "      <th>temp</th>\n",
       "      <th>RH</th>\n",
       "      <th>wind</th>\n",
       "      <th>rain</th>\n",
       "    </tr>\n",
       "  </thead>\n",
       "  <tbody>\n",
       "    <tr>\n",
       "      <th>0</th>\n",
       "      <td>-0.812283</td>\n",
       "      <td>-1.335942</td>\n",
       "      <td>-1.846711</td>\n",
       "      <td>-0.860187</td>\n",
       "      <td>-0.398187</td>\n",
       "      <td>0.418726</td>\n",
       "      <td>1.514159</td>\n",
       "      <td>-0.073268</td>\n",
       "    </tr>\n",
       "    <tr>\n",
       "      <th>1</th>\n",
       "      <td>-0.010735</td>\n",
       "      <td>-0.859009</td>\n",
       "      <td>0.509582</td>\n",
       "      <td>-0.508736</td>\n",
       "      <td>-0.155493</td>\n",
       "      <td>-0.715565</td>\n",
       "      <td>-1.761003</td>\n",
       "      <td>-0.073268</td>\n",
       "    </tr>\n",
       "    <tr>\n",
       "      <th>2</th>\n",
       "      <td>-0.010735</td>\n",
       "      <td>-1.059878</td>\n",
       "      <td>-0.303178</td>\n",
       "      <td>-0.508736</td>\n",
       "      <td>-0.744894</td>\n",
       "      <td>-0.715565</td>\n",
       "      <td>-1.535130</td>\n",
       "      <td>-0.073268</td>\n",
       "    </tr>\n",
       "    <tr>\n",
       "      <th>3</th>\n",
       "      <td>0.189652</td>\n",
       "      <td>-1.223939</td>\n",
       "      <td>-1.915580</td>\n",
       "      <td>-0.003526</td>\n",
       "      <td>-1.837021</td>\n",
       "      <td>3.317471</td>\n",
       "      <td>-0.010485</td>\n",
       "      <td>0.603155</td>\n",
       "    </tr>\n",
       "    <tr>\n",
       "      <th>4</th>\n",
       "      <td>-0.247556</td>\n",
       "      <td>-0.939988</td>\n",
       "      <td>-1.814327</td>\n",
       "      <td>0.128267</td>\n",
       "      <td>-1.299625</td>\n",
       "      <td>3.443503</td>\n",
       "      <td>0.177742</td>\n",
       "      <td>-0.073268</td>\n",
       "    </tr>\n",
       "    <tr>\n",
       "      <th>...</th>\n",
       "      <td>...</td>\n",
       "      <td>...</td>\n",
       "      <td>...</td>\n",
       "      <td>...</td>\n",
       "      <td>...</td>\n",
       "      <td>...</td>\n",
       "      <td>...</td>\n",
       "      <td>...</td>\n",
       "    </tr>\n",
       "    <tr>\n",
       "      <th>512</th>\n",
       "      <td>-1.650265</td>\n",
       "      <td>-0.854803</td>\n",
       "      <td>0.495235</td>\n",
       "      <td>-1.563087</td>\n",
       "      <td>1.543370</td>\n",
       "      <td>-0.778581</td>\n",
       "      <td>-0.744573</td>\n",
       "      <td>-0.073268</td>\n",
       "    </tr>\n",
       "    <tr>\n",
       "      <th>513</th>\n",
       "      <td>-1.650265</td>\n",
       "      <td>-0.854803</td>\n",
       "      <td>0.495235</td>\n",
       "      <td>-1.563087</td>\n",
       "      <td>0.520585</td>\n",
       "      <td>1.679050</td>\n",
       "      <td>1.005944</td>\n",
       "      <td>-0.073268</td>\n",
       "    </tr>\n",
       "    <tr>\n",
       "      <th>514</th>\n",
       "      <td>-1.650265</td>\n",
       "      <td>-0.854803</td>\n",
       "      <td>0.495235</td>\n",
       "      <td>-1.563087</td>\n",
       "      <td>0.399238</td>\n",
       "      <td>1.616034</td>\n",
       "      <td>1.514159</td>\n",
       "      <td>-0.073268</td>\n",
       "    </tr>\n",
       "    <tr>\n",
       "      <th>515</th>\n",
       "      <td>0.681511</td>\n",
       "      <td>0.553912</td>\n",
       "      <td>0.286579</td>\n",
       "      <td>0.501683</td>\n",
       "      <td>1.161993</td>\n",
       "      <td>-0.148419</td>\n",
       "      <td>-0.010485</td>\n",
       "      <td>-0.073268</td>\n",
       "    </tr>\n",
       "    <tr>\n",
       "      <th>516</th>\n",
       "      <td>-2.032821</td>\n",
       "      <td>-1.701924</td>\n",
       "      <td>-1.795880</td>\n",
       "      <td>-1.738812</td>\n",
       "      <td>-1.230284</td>\n",
       "      <td>-0.841597</td>\n",
       "      <td>0.271856</td>\n",
       "      <td>-0.073268</td>\n",
       "    </tr>\n",
       "  </tbody>\n",
       "</table>\n",
       "<p>517 rows × 8 columns</p>\n",
       "</div>"
      ],
      "text/plain": [
       "         FFMC       DMC        DC       ISI      temp        RH      wind  \\\n",
       "0   -0.812283 -1.335942 -1.846711 -0.860187 -0.398187  0.418726  1.514159   \n",
       "1   -0.010735 -0.859009  0.509582 -0.508736 -0.155493 -0.715565 -1.761003   \n",
       "2   -0.010735 -1.059878 -0.303178 -0.508736 -0.744894 -0.715565 -1.535130   \n",
       "3    0.189652 -1.223939 -1.915580 -0.003526 -1.837021  3.317471 -0.010485   \n",
       "4   -0.247556 -0.939988 -1.814327  0.128267 -1.299625  3.443503  0.177742   \n",
       "..        ...       ...       ...       ...       ...       ...       ...   \n",
       "512 -1.650265 -0.854803  0.495235 -1.563087  1.543370 -0.778581 -0.744573   \n",
       "513 -1.650265 -0.854803  0.495235 -1.563087  0.520585  1.679050  1.005944   \n",
       "514 -1.650265 -0.854803  0.495235 -1.563087  0.399238  1.616034  1.514159   \n",
       "515  0.681511  0.553912  0.286579  0.501683  1.161993 -0.148419 -0.010485   \n",
       "516 -2.032821 -1.701924 -1.795880 -1.738812 -1.230284 -0.841597  0.271856   \n",
       "\n",
       "         rain  \n",
       "0   -0.073268  \n",
       "1   -0.073268  \n",
       "2   -0.073268  \n",
       "3    0.603155  \n",
       "4   -0.073268  \n",
       "..        ...  \n",
       "512 -0.073268  \n",
       "513 -0.073268  \n",
       "514 -0.073268  \n",
       "515 -0.073268  \n",
       "516 -0.073268  \n",
       "\n",
       "[517 rows x 8 columns]"
      ]
     },
     "execution_count": 16,
     "metadata": {},
     "output_type": "execute_result"
    }
   ],
   "source": [
    "from sklearn.preprocessing import StandardScaler\n",
    "\n",
    "scaler = StandardScaler()\n",
    "scaled = scaler.fit_transform(imputed)\n",
    "scaled = pd.DataFrame(scaled, columns = imputed.columns)\n",
    "\n",
    "scaled"
   ]
  },
  {
   "cell_type": "markdown",
   "metadata": {},
   "source": [
    "### Combining DFs for feature variables"
   ]
  },
  {
   "cell_type": "code",
   "execution_count": 44,
   "metadata": {},
   "outputs": [],
   "source": [
    "features_df = pd.concat([fires.iloc[:, [3, 15, 16, 17, 18, 19, 20, 21]], scaled], axis = 1)\n",
    "\n",
    "# combining scaled numerical features and transformed categorical variables"
   ]
  },
  {
   "cell_type": "code",
   "execution_count": 45,
   "metadata": {},
   "outputs": [
    {
     "name": "stdout",
     "output_type": "stream",
     "text": [
      "<class 'pandas.core.frame.DataFrame'>\n",
      "RangeIndex: 517 entries, 0 to 516\n",
      "Data columns (total 16 columns):\n",
      " #   Column  Non-Null Count  Dtype  \n",
      "---  ------  --------------  -----  \n",
      " 0   month   517 non-null    int64  \n",
      " 1   fri     517 non-null    uint8  \n",
      " 2   mon     517 non-null    uint8  \n",
      " 3   sat     517 non-null    uint8  \n",
      " 4   sun     517 non-null    uint8  \n",
      " 5   thu     517 non-null    uint8  \n",
      " 6   tue     517 non-null    uint8  \n",
      " 7   wed     517 non-null    uint8  \n",
      " 8   FFMC    517 non-null    float64\n",
      " 9   DMC     517 non-null    float64\n",
      " 10  DC      517 non-null    float64\n",
      " 11  ISI     517 non-null    float64\n",
      " 12  temp    517 non-null    float64\n",
      " 13  RH      517 non-null    float64\n",
      " 14  wind    517 non-null    float64\n",
      " 15  rain    517 non-null    float64\n",
      "dtypes: float64(8), int64(1), uint8(7)\n",
      "memory usage: 40.0 KB\n"
     ]
    }
   ],
   "source": [
    "features_df.info()"
   ]
  },
  {
   "cell_type": "code",
   "execution_count": 47,
   "metadata": {},
   "outputs": [
    {
     "data": {
      "image/png": "[encoded data removed]",
      "text/plain": [
       "<Figure size 800x2000 with 16 Axes>"
      ]
     },
     "metadata": {},
     "output_type": "display_data"
    }
   ],
   "source": [
    "plt.figure(figsize=(8,20))\n",
    "plot_count = 1\n",
    "\n",
    "for col in features_df:\n",
    "    plt.subplot(9,2,plot_count)\n",
    "    plt.scatter(features_df[col], fires[\"log_area\"])\n",
    "    plt.title(col)\n",
    "    plt.ylabel(\"Area\")\n",
    "    plot_count += 1\n",
    "    plt.subplots_adjust(hspace = .4) "
   ]
  },
  {
   "cell_type": "markdown",
   "metadata": {},
   "source": [
    "It's a bit hard to tell what features have the best correlations to the area variable.  Month is defintley a factor."
   ]
  },
  {
   "cell_type": "markdown",
   "metadata": {},
   "source": [
    "### Forward sequential features selection"
   ]
  },
  {
   "cell_type": "code",
   "execution_count": 48,
   "metadata": {},
   "outputs": [
    {
     "name": "stdout",
     "output_type": "stream",
     "text": [
      "Features selected in 2 feature model: ['month' 'wind']\n",
      "Features selected in 4 feature model: ['month' 'fri' 'FFMC' 'wind']\n",
      "Features selected in 6 feature model: ['month' 'fri' 'sun' 'tue' 'FFMC' 'wind']\n"
     ]
    }
   ],
   "source": [
    "from sklearn.feature_selection import SequentialFeatureSelector\n",
    "\n",
    "y = fires[\"log_area\"]\n",
    "\n",
    "sfs_model = LinearRegression()\n",
    "sfs_model2 = LinearRegression()\n",
    "sfs_model3 = LinearRegression()\n",
    "\n",
    "forward2 = SequentialFeatureSelector(estimator=sfs_model,\n",
    "                                     n_features_to_select=2, \n",
    "                                     direction=\"forward\")\n",
    "\n",
    "forward4 = SequentialFeatureSelector(estimator=sfs_model2,\n",
    "                                     n_features_to_select=4, \n",
    "                                     direction=\"forward\")\n",
    "\n",
    "forward6 = SequentialFeatureSelector(estimator=sfs_model3,\n",
    "                                       n_features_to_select=6, \n",
    "                                       direction=\"forward\")\n",
    "\n",
    "forward2.fit(features_df, y)\n",
    "forward4.fit(features_df, y)\n",
    "forward6.fit(features_df, y)\n",
    "\n",
    "print(\"Features selected in 2 feature model:\", forward2.get_feature_names_out())\n",
    "print(\"Features selected in 4 feature model:\", forward4.get_feature_names_out())\n",
    "print(\"Features selected in 6 feature model:\", forward6.get_feature_names_out())"
   ]
  },
  {
   "cell_type": "markdown",
   "metadata": {},
   "source": [
    "### Backward sequential features selection"
   ]
  },
  {
   "cell_type": "code",
   "execution_count": 49,
   "metadata": {},
   "outputs": [
    {
     "name": "stdout",
     "output_type": "stream",
     "text": [
      "Features selected in 2 feature model: ['fri' 'tue']\n",
      "Features selected in 4 feature model: ['fri' 'sat' 'sun' 'tue']\n",
      "Features selected in 6 feature model: ['fri' 'mon' 'sat' 'sun' 'tue' 'wed']\n"
     ]
    }
   ],
   "source": [
    "backward2 = SequentialFeatureSelector(estimator=sfs_model,\n",
    "                                     n_features_to_select=2, \n",
    "                                     direction=\"backward\")\n",
    "\n",
    "backward4 = SequentialFeatureSelector(estimator=sfs_model,\n",
    "                                     n_features_to_select=4, \n",
    "                                     direction=\"backward\")\n",
    "\n",
    "backward6 = SequentialFeatureSelector(estimator=sfs_model,\n",
    "                                       n_features_to_select=6, \n",
    "                                       direction=\"backward\")\n",
    "\n",
    "backward2.fit(features_df, y)\n",
    "backward4.fit(features_df, y)\n",
    "backward6.fit(features_df, y)\n",
    "\n",
    "print(\"Features selected in 2 feature model:\", backward2.get_feature_names_out())\n",
    "print(\"Features selected in 4 feature model:\", backward4.get_feature_names_out())\n",
    "print(\"Features selected in 6 feature model:\", backward6.get_feature_names_out())"
   ]
  },
  {
   "cell_type": "markdown",
   "metadata": {},
   "source": [
    "### Creating models w/ sequential features"
   ]
  },
  {
   "cell_type": "code",
   "execution_count": 50,
   "metadata": {},
   "outputs": [],
   "source": [
    "fw2_model = LinearRegression() # .fit(final[forward2.get_feature_names_out()], y)\n",
    "fw4_model = LinearRegression() # .fit(final[forward4.get_feature_names_out()], y)\n",
    "fw6_model = LinearRegression() # .fit(final[forward6.get_feature_names_out()], y)\n",
    "\n",
    "bw2_model = LinearRegression() # .fit(final[backward2.get_feature_names_out()], y)\n",
    "bw4_model = LinearRegression() # .fit(final[backward4.get_feature_names_out()], y)\n",
    "bw6_model = LinearRegression() # .fit(final[backward6.get_feature_names_out()], y)"
   ]
  },
  {
   "cell_type": "markdown",
   "metadata": {},
   "source": [
    "### Ridge and Lasso models"
   ]
  },
  {
   "cell_type": "code",
   "execution_count": 57,
   "metadata": {},
   "outputs": [
    {
     "name": "stdout",
     "output_type": "stream",
     "text": [
      "Ridge tuning parameter:  1812.6306306306308\n",
      "LASSO tuning parameter:  10000.0\n",
      "Ridge coefficients:  [ 0.03975263 -0.0061322  -0.00054743  0.0057012   0.00087149 -0.00318782\n",
      "  0.0034999  -0.00020513  0.00750575  0.00991144  0.00147871 -0.00988468\n",
      "  0.00630894 -0.0112039   0.02182828  0.00666208]\n",
      "LASSO coefficients:  [ 0. -0. -0.  0.  0. -0.  0.  0.  0.  0.  0. -0.  0. -0.  0.  0.]\n"
     ]
    }
   ],
   "source": [
    "from sklearn.linear_model import LassoCV, RidgeCV\n",
    "\n",
    "ridge = RidgeCV(alphas = np.linspace(1, 10000, num=1000))\n",
    "lasso = LassoCV(alphas = np.linspace(1, 10000, num=1000))\n",
    "\n",
    "ridge.fit(features_df, y)\n",
    "lasso.fit(features_df, y)\n",
    "\n",
    "print(\"Ridge tuning parameter: \", ridge.alpha_)\n",
    "print(\"LASSO tuning parameter: \", lasso.alpha_)\n",
    "\n",
    "print(\"Ridge coefficients: \", ridge.coef_)\n",
    "print(\"LASSO coefficients: \", lasso.coef_)"
   ]
  },
  {
   "cell_type": "code",
   "execution_count": 52,
   "metadata": {},
   "outputs": [
    {
     "name": "stdout",
     "output_type": "stream",
     "text": [
      "Ridge tuning parameter:  1500.0\n"
     ]
    }
   ],
   "source": [
    "ridge = RidgeCV(alphas = np.linspace(1000, 1500, num=1000))\n",
    "ridge.fit(features_df, y)\n",
    "print(\"Ridge tuning parameter: \", ridge.alpha_)"
   ]
  },
  {
   "cell_type": "markdown",
   "metadata": {},
   "source": [
    "### Cross validating all models"
   ]
  },
  {
   "cell_type": "code",
   "execution_count": 55,
   "metadata": {},
   "outputs": [],
   "source": [
    "from sklearn.model_selection import cross_val_score \n",
    "reference = LinearRegression()\n",
    "\n",
    "reference_cv = cross_val_score(reference, features_df[[\"wind\", \"temp\"]], y, cv = 5, scoring = \"neg_mean_squared_error\")\n",
    "fw2_cv = cross_val_score(fw2_model, features_df[forward2.get_feature_names_out()], y, cv = 5, scoring = \"neg_mean_squared_error\")\n",
    "fw4_cv = cross_val_score(fw4_model, features_df[forward4.get_feature_names_out()], y, cv = 5, scoring = \"neg_mean_squared_error\")\n",
    "fw6_cv = cross_val_score(fw6_model, features_df[forward6.get_feature_names_out()], y, cv = 5, scoring = \"neg_mean_squared_error\")\n",
    "bw2_cv = cross_val_score(bw2_model, features_df[backward2.get_feature_names_out()], y, cv = 5, scoring = \"neg_mean_squared_error\")\n",
    "bw4_cv = cross_val_score(bw4_model, features_df[backward4.get_feature_names_out()], y, cv = 5, scoring = \"neg_mean_squared_error\")\n",
    "bw6_cv = cross_val_score(bw6_model, features_df[backward6.get_feature_names_out()], y, cv = 5, scoring = \"neg_mean_squared_error\")\n",
    "ridge_cv = cross_val_score(ridge, features_df, y, cv = 5, scoring = \"neg_mean_squared_error\")"
   ]
  },
  {
   "cell_type": "markdown",
   "metadata": {},
   "source": [
    "### Reviewing the MSE and STD dev for all models"
   ]
  },
  {
   "cell_type": "code",
   "execution_count": 56,
   "metadata": {},
   "outputs": [
    {
     "name": "stdout",
     "output_type": "stream",
     "text": [
      "Reference Model, Avg Test MSE:  -2.204650013004116  SD:  1.060040355378637\n",
      "Forward-2 Model, Avg Test MSE:  -2.1662868008699983  SD:  0.9777349381433581\n",
      "Forward-4 Model, Avg Test MSE:  -2.1647458245182056  SD:  0.9770686745442914\n",
      "Forward-6 Model, Avg Test MSE:  -2.1766658748712944  SD:  0.9804129153161028\n",
      "Backward-2 Model, Avg Test MSE:  -2.176620001011036  SD:  1.009024419345114\n",
      "Backward-4 Model, Avg Test MSE:  -2.1870218207891896  SD:  1.0102225286252613\n",
      "Backward-6 Model, Avg Test MSE:  -2.206258512893414  SD:  1.0206926341595277\n",
      "Ridge Model, Avg Test MSE:  -2.206258512893414  SD:  1.0206926341595277\n"
     ]
    }
   ],
   "source": [
    "print(\"Reference Model, Avg Test MSE: \", np.mean(reference_cv), \" SD: \", np.std(reference_cv))\n",
    "print(\"Forward-2 Model, Avg Test MSE: \", np.mean(fw2_cv), \" SD: \", np.std(fw2_cv))\n",
    "print(\"Forward-4 Model, Avg Test MSE: \", np.mean(fw4_cv), \" SD: \", np.std(fw4_cv))\n",
    "print(\"Forward-6 Model, Avg Test MSE: \", np.mean(fw6_cv), \" SD: \", np.std(fw6_cv))\n",
    "print(\"Backward-2 Model, Avg Test MSE: \", np.mean(bw2_cv), \" SD: \", np.std(bw2_cv))\n",
    "print(\"Backward-4 Model, Avg Test MSE: \", np.mean(bw4_cv), \" SD: \", np.std(bw4_cv))\n",
    "print(\"Backward-6 Model, Avg Test MSE: \", np.mean(bw6_cv), \" SD: \", np.std(bw6_cv))\n",
    "print(\"Ridge Model, Avg Test MSE: \", np.mean(bw6_cv), \" SD: \", np.std(bw6_cv))"
   ]
  },
  {
   "cell_type": "markdown",
   "metadata": {},
   "source": [
    "All the models MSE are fairly close with the foward 2 feature model being the best with the lowest standard deviation. With a SD close to 1 and MSE of -2, these are not great precitors of our target variable. Note we used a log transformation to the area target varible to increase normalization (which is better for linear models).  Therefore, the actual MSEs will be a bit higher. To get actual area predictions we would need to run the log predictions and transform this back with np.exp (the inverse of a log function)"
   ]
  }
 ],
 "metadata": {
  "kernelspec": {
   "display_name": "Python 3 (ipykernel)",
   "language": "python",
   "name": "python3"
  },
  "language_info": {
   "codemirror_mode": {
    "name": "ipython",
    "version": 3
   },
   "file_extension": ".py",
   "mimetype": "text/x-python",
   "name": "python",
   "nbconvert_exporter": "python",
   "pygments_lexer": "ipython3",
   "version": "3.10.6"
  }
 },
 "nbformat": 4,
 "nbformat_minor": 4
}
